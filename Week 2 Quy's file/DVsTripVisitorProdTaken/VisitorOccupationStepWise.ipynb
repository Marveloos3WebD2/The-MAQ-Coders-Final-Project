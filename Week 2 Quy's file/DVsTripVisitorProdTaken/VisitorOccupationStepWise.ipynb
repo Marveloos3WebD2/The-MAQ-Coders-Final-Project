{
 "cells": [
  {
   "cell_type": "markdown",
   "id": "75062cab",
   "metadata": {},
   "source": [
    "## Import packages"
   ]
  },
  {
   "cell_type": "code",
   "execution_count": 1,
   "id": "3cf84350",
   "metadata": {},
   "outputs": [],
   "source": [
    "import pandas as pd\n",
    "import numpy as np\n",
    "import statsmodels.api as sm\n",
    "import matplotlib.pyplot as plt\n",
    "from pylab import *\n",
    "import seaborn as sns\n",
    "from sklearn.utils import shuffle\n",
    "%matplotlib inline\n",
    "%matplotlib inline\n",
    "from sklearn.model_selection import train_test_split\n",
    "from sklearn.tree import DecisionTreeClassifier\n",
    "from sklearn.metrics import classification_report, confusion_matrix, accuracy_score"
   ]
  },
  {
   "cell_type": "markdown",
   "id": "95cc1203",
   "metadata": {},
   "source": [
    "## Import Data"
   ]
  },
  {
   "cell_type": "code",
   "execution_count": 2,
   "id": "21c13f98",
   "metadata": {},
   "outputs": [],
   "source": [
    "Travel = pd.read_csv(\"Travel.csv\")"
   ]
  },
  {
   "cell_type": "markdown",
   "id": "c3539140",
   "metadata": {},
   "source": [
    "## Question Setup: Is there a difference in the number of visitors among the Occupation? "
   ]
  },
  {
   "cell_type": "markdown",
   "id": "7eaab82b",
   "metadata": {},
   "source": [
    "## Data Wrangling "
   ]
  },
  {
   "cell_type": "code",
   "execution_count": 3,
   "id": "86a9efe9",
   "metadata": {},
   "outputs": [
    {
     "data": {
      "text/plain": [
       "0    3968\n",
       "1     920\n",
       "Name: ProdTaken, dtype: int64"
      ]
     },
     "execution_count": 3,
     "metadata": {},
     "output_type": "execute_result"
    }
   ],
   "source": [
    "Travel['ProdTaken'].value_counts()"
   ]
  },
  {
   "cell_type": "markdown",
   "id": "8ed9477e",
   "metadata": {},
   "source": [
    "Remove NA values"
   ]
  },
  {
   "cell_type": "code",
   "execution_count": 4,
   "id": "3ac383ee",
   "metadata": {},
   "outputs": [],
   "source": [
    "TravelDrop = Travel.dropna(axis=0, how='any', thresh=None, subset=None, inplace=False)"
   ]
  },
  {
   "cell_type": "code",
   "execution_count": 5,
   "id": "42d1ab50",
   "metadata": {},
   "outputs": [
    {
     "data": {
      "text/html": [
       "<div>\n",
       "<style scoped>\n",
       "    .dataframe tbody tr th:only-of-type {\n",
       "        vertical-align: middle;\n",
       "    }\n",
       "\n",
       "    .dataframe tbody tr th {\n",
       "        vertical-align: top;\n",
       "    }\n",
       "\n",
       "    .dataframe thead th {\n",
       "        text-align: right;\n",
       "    }\n",
       "</style>\n",
       "<table border=\"1\" class=\"dataframe\">\n",
       "  <thead>\n",
       "    <tr style=\"text-align: right;\">\n",
       "      <th></th>\n",
       "      <th>CustomerID</th>\n",
       "      <th>ProdTaken</th>\n",
       "      <th>Age</th>\n",
       "      <th>CityTier</th>\n",
       "      <th>DurationOfPitch</th>\n",
       "      <th>NumberOfPersonVisiting</th>\n",
       "      <th>NumberOfFollowups</th>\n",
       "      <th>PreferredPropertyStar</th>\n",
       "      <th>NumberOfTrips</th>\n",
       "      <th>Passport</th>\n",
       "      <th>PitchSatisfactionScore</th>\n",
       "      <th>OwnCar</th>\n",
       "      <th>NumberOfChildrenVisiting</th>\n",
       "      <th>MonthlyIncome</th>\n",
       "    </tr>\n",
       "  </thead>\n",
       "  <tbody>\n",
       "    <tr>\n",
       "      <th>count</th>\n",
       "      <td>4128.000000</td>\n",
       "      <td>4128.000000</td>\n",
       "      <td>4128.000000</td>\n",
       "      <td>4128.000000</td>\n",
       "      <td>4128.000000</td>\n",
       "      <td>4128.000000</td>\n",
       "      <td>4128.000000</td>\n",
       "      <td>4128.000000</td>\n",
       "      <td>4128.0000</td>\n",
       "      <td>4128.000000</td>\n",
       "      <td>4128.000000</td>\n",
       "      <td>4128.000000</td>\n",
       "      <td>4128.000000</td>\n",
       "      <td>4128.000000</td>\n",
       "    </tr>\n",
       "    <tr>\n",
       "      <th>mean</th>\n",
       "      <td>202527.763808</td>\n",
       "      <td>0.193072</td>\n",
       "      <td>37.231831</td>\n",
       "      <td>1.663275</td>\n",
       "      <td>15.584787</td>\n",
       "      <td>2.949370</td>\n",
       "      <td>3.741521</td>\n",
       "      <td>3.578488</td>\n",
       "      <td>3.2953</td>\n",
       "      <td>0.295300</td>\n",
       "      <td>3.060804</td>\n",
       "      <td>0.612161</td>\n",
       "      <td>1.223595</td>\n",
       "      <td>23178.464147</td>\n",
       "    </tr>\n",
       "    <tr>\n",
       "      <th>std</th>\n",
       "      <td>1409.439133</td>\n",
       "      <td>0.394757</td>\n",
       "      <td>9.174521</td>\n",
       "      <td>0.920640</td>\n",
       "      <td>8.398142</td>\n",
       "      <td>0.718818</td>\n",
       "      <td>1.006786</td>\n",
       "      <td>0.795031</td>\n",
       "      <td>1.8563</td>\n",
       "      <td>0.456233</td>\n",
       "      <td>1.363064</td>\n",
       "      <td>0.487317</td>\n",
       "      <td>0.852685</td>\n",
       "      <td>4506.614622</td>\n",
       "    </tr>\n",
       "    <tr>\n",
       "      <th>min</th>\n",
       "      <td>200000.000000</td>\n",
       "      <td>0.000000</td>\n",
       "      <td>18.000000</td>\n",
       "      <td>1.000000</td>\n",
       "      <td>5.000000</td>\n",
       "      <td>1.000000</td>\n",
       "      <td>1.000000</td>\n",
       "      <td>3.000000</td>\n",
       "      <td>1.0000</td>\n",
       "      <td>0.000000</td>\n",
       "      <td>1.000000</td>\n",
       "      <td>0.000000</td>\n",
       "      <td>0.000000</td>\n",
       "      <td>1000.000000</td>\n",
       "    </tr>\n",
       "    <tr>\n",
       "      <th>25%</th>\n",
       "      <td>201320.750000</td>\n",
       "      <td>0.000000</td>\n",
       "      <td>31.000000</td>\n",
       "      <td>1.000000</td>\n",
       "      <td>9.000000</td>\n",
       "      <td>2.000000</td>\n",
       "      <td>3.000000</td>\n",
       "      <td>3.000000</td>\n",
       "      <td>2.0000</td>\n",
       "      <td>0.000000</td>\n",
       "      <td>2.000000</td>\n",
       "      <td>0.000000</td>\n",
       "      <td>1.000000</td>\n",
       "      <td>20751.000000</td>\n",
       "    </tr>\n",
       "    <tr>\n",
       "      <th>50%</th>\n",
       "      <td>202603.500000</td>\n",
       "      <td>0.000000</td>\n",
       "      <td>36.000000</td>\n",
       "      <td>1.000000</td>\n",
       "      <td>14.000000</td>\n",
       "      <td>3.000000</td>\n",
       "      <td>4.000000</td>\n",
       "      <td>3.000000</td>\n",
       "      <td>3.0000</td>\n",
       "      <td>0.000000</td>\n",
       "      <td>3.000000</td>\n",
       "      <td>1.000000</td>\n",
       "      <td>1.000000</td>\n",
       "      <td>22418.000000</td>\n",
       "    </tr>\n",
       "    <tr>\n",
       "      <th>75%</th>\n",
       "      <td>203748.250000</td>\n",
       "      <td>0.000000</td>\n",
       "      <td>43.000000</td>\n",
       "      <td>3.000000</td>\n",
       "      <td>20.000000</td>\n",
       "      <td>3.000000</td>\n",
       "      <td>4.000000</td>\n",
       "      <td>4.000000</td>\n",
       "      <td>4.0000</td>\n",
       "      <td>1.000000</td>\n",
       "      <td>4.000000</td>\n",
       "      <td>1.000000</td>\n",
       "      <td>2.000000</td>\n",
       "      <td>25301.000000</td>\n",
       "    </tr>\n",
       "    <tr>\n",
       "      <th>max</th>\n",
       "      <td>204887.000000</td>\n",
       "      <td>1.000000</td>\n",
       "      <td>61.000000</td>\n",
       "      <td>3.000000</td>\n",
       "      <td>127.000000</td>\n",
       "      <td>5.000000</td>\n",
       "      <td>6.000000</td>\n",
       "      <td>5.000000</td>\n",
       "      <td>22.0000</td>\n",
       "      <td>1.000000</td>\n",
       "      <td>5.000000</td>\n",
       "      <td>1.000000</td>\n",
       "      <td>3.000000</td>\n",
       "      <td>98678.000000</td>\n",
       "    </tr>\n",
       "  </tbody>\n",
       "</table>\n",
       "</div>"
      ],
      "text/plain": [
       "          CustomerID    ProdTaken          Age     CityTier  DurationOfPitch  \\\n",
       "count    4128.000000  4128.000000  4128.000000  4128.000000      4128.000000   \n",
       "mean   202527.763808     0.193072    37.231831     1.663275        15.584787   \n",
       "std      1409.439133     0.394757     9.174521     0.920640         8.398142   \n",
       "min    200000.000000     0.000000    18.000000     1.000000         5.000000   \n",
       "25%    201320.750000     0.000000    31.000000     1.000000         9.000000   \n",
       "50%    202603.500000     0.000000    36.000000     1.000000        14.000000   \n",
       "75%    203748.250000     0.000000    43.000000     3.000000        20.000000   \n",
       "max    204887.000000     1.000000    61.000000     3.000000       127.000000   \n",
       "\n",
       "       NumberOfPersonVisiting  NumberOfFollowups  PreferredPropertyStar  \\\n",
       "count             4128.000000        4128.000000            4128.000000   \n",
       "mean                 2.949370           3.741521               3.578488   \n",
       "std                  0.718818           1.006786               0.795031   \n",
       "min                  1.000000           1.000000               3.000000   \n",
       "25%                  2.000000           3.000000               3.000000   \n",
       "50%                  3.000000           4.000000               3.000000   \n",
       "75%                  3.000000           4.000000               4.000000   \n",
       "max                  5.000000           6.000000               5.000000   \n",
       "\n",
       "       NumberOfTrips     Passport  PitchSatisfactionScore       OwnCar  \\\n",
       "count      4128.0000  4128.000000             4128.000000  4128.000000   \n",
       "mean          3.2953     0.295300                3.060804     0.612161   \n",
       "std           1.8563     0.456233                1.363064     0.487317   \n",
       "min           1.0000     0.000000                1.000000     0.000000   \n",
       "25%           2.0000     0.000000                2.000000     0.000000   \n",
       "50%           3.0000     0.000000                3.000000     1.000000   \n",
       "75%           4.0000     1.000000                4.000000     1.000000   \n",
       "max          22.0000     1.000000                5.000000     1.000000   \n",
       "\n",
       "       NumberOfChildrenVisiting  MonthlyIncome  \n",
       "count               4128.000000    4128.000000  \n",
       "mean                   1.223595   23178.464147  \n",
       "std                    0.852685    4506.614622  \n",
       "min                    0.000000    1000.000000  \n",
       "25%                    1.000000   20751.000000  \n",
       "50%                    1.000000   22418.000000  \n",
       "75%                    2.000000   25301.000000  \n",
       "max                    3.000000   98678.000000  "
      ]
     },
     "execution_count": 5,
     "metadata": {},
     "output_type": "execute_result"
    }
   ],
   "source": [
    "TravelDrop.describe()"
   ]
  },
  {
   "cell_type": "markdown",
   "id": "492a564c",
   "metadata": {},
   "source": [
    "Check numbers of customers Taken Product vs those who did not"
   ]
  },
  {
   "cell_type": "code",
   "execution_count": 6,
   "id": "e910ef60",
   "metadata": {},
   "outputs": [
    {
     "data": {
      "text/plain": [
       "0    3331\n",
       "1     797\n",
       "Name: ProdTaken, dtype: int64"
      ]
     },
     "execution_count": 6,
     "metadata": {},
     "output_type": "execute_result"
    }
   ],
   "source": [
    "TravelDrop['ProdTaken'].value_counts()"
   ]
  },
  {
   "cell_type": "markdown",
   "id": "4a8fc776",
   "metadata": {},
   "source": [
    "Since the majority of customer did not take product, we will only exam those who did in this analysis."
   ]
  },
  {
   "cell_type": "code",
   "execution_count": 7,
   "id": "71bf9cf9",
   "metadata": {},
   "outputs": [],
   "source": [
    "ProdTakendf = TravelDrop[TravelDrop[\"ProdTaken\"] == 1]"
   ]
  },
  {
   "cell_type": "code",
   "execution_count": 8,
   "id": "638e3011",
   "metadata": {},
   "outputs": [
    {
     "data": {
      "text/html": [
       "<div>\n",
       "<style scoped>\n",
       "    .dataframe tbody tr th:only-of-type {\n",
       "        vertical-align: middle;\n",
       "    }\n",
       "\n",
       "    .dataframe tbody tr th {\n",
       "        vertical-align: top;\n",
       "    }\n",
       "\n",
       "    .dataframe thead th {\n",
       "        text-align: right;\n",
       "    }\n",
       "</style>\n",
       "<table border=\"1\" class=\"dataframe\">\n",
       "  <thead>\n",
       "    <tr style=\"text-align: right;\">\n",
       "      <th></th>\n",
       "      <th>CustomerID</th>\n",
       "      <th>ProdTaken</th>\n",
       "      <th>Age</th>\n",
       "      <th>TypeofContact</th>\n",
       "      <th>CityTier</th>\n",
       "      <th>DurationOfPitch</th>\n",
       "      <th>Occupation</th>\n",
       "      <th>Gender</th>\n",
       "      <th>NumberOfPersonVisiting</th>\n",
       "      <th>NumberOfFollowups</th>\n",
       "      <th>ProductPitched</th>\n",
       "      <th>PreferredPropertyStar</th>\n",
       "      <th>MaritalStatus</th>\n",
       "      <th>NumberOfTrips</th>\n",
       "      <th>Passport</th>\n",
       "      <th>PitchSatisfactionScore</th>\n",
       "      <th>OwnCar</th>\n",
       "      <th>NumberOfChildrenVisiting</th>\n",
       "      <th>Designation</th>\n",
       "      <th>MonthlyIncome</th>\n",
       "    </tr>\n",
       "  </thead>\n",
       "  <tbody>\n",
       "    <tr>\n",
       "      <th>0</th>\n",
       "      <td>200000</td>\n",
       "      <td>1</td>\n",
       "      <td>41.0</td>\n",
       "      <td>Self Enquiry</td>\n",
       "      <td>3</td>\n",
       "      <td>6.0</td>\n",
       "      <td>Salaried</td>\n",
       "      <td>Female</td>\n",
       "      <td>3</td>\n",
       "      <td>3.0</td>\n",
       "      <td>Deluxe</td>\n",
       "      <td>3.0</td>\n",
       "      <td>Single</td>\n",
       "      <td>1.0</td>\n",
       "      <td>1</td>\n",
       "      <td>2</td>\n",
       "      <td>1</td>\n",
       "      <td>0.0</td>\n",
       "      <td>Manager</td>\n",
       "      <td>20993.0</td>\n",
       "    </tr>\n",
       "    <tr>\n",
       "      <th>2</th>\n",
       "      <td>200002</td>\n",
       "      <td>1</td>\n",
       "      <td>37.0</td>\n",
       "      <td>Self Enquiry</td>\n",
       "      <td>1</td>\n",
       "      <td>8.0</td>\n",
       "      <td>Free Lancer</td>\n",
       "      <td>Male</td>\n",
       "      <td>3</td>\n",
       "      <td>4.0</td>\n",
       "      <td>Basic</td>\n",
       "      <td>3.0</td>\n",
       "      <td>Single</td>\n",
       "      <td>7.0</td>\n",
       "      <td>1</td>\n",
       "      <td>3</td>\n",
       "      <td>0</td>\n",
       "      <td>0.0</td>\n",
       "      <td>Executive</td>\n",
       "      <td>17090.0</td>\n",
       "    </tr>\n",
       "    <tr>\n",
       "      <th>14</th>\n",
       "      <td>200014</td>\n",
       "      <td>1</td>\n",
       "      <td>28.0</td>\n",
       "      <td>Self Enquiry</td>\n",
       "      <td>1</td>\n",
       "      <td>30.0</td>\n",
       "      <td>Salaried</td>\n",
       "      <td>Male</td>\n",
       "      <td>2</td>\n",
       "      <td>4.0</td>\n",
       "      <td>Basic</td>\n",
       "      <td>3.0</td>\n",
       "      <td>Single</td>\n",
       "      <td>6.0</td>\n",
       "      <td>1</td>\n",
       "      <td>2</td>\n",
       "      <td>0</td>\n",
       "      <td>0.0</td>\n",
       "      <td>Executive</td>\n",
       "      <td>17028.0</td>\n",
       "    </tr>\n",
       "    <tr>\n",
       "      <th>24</th>\n",
       "      <td>200024</td>\n",
       "      <td>1</td>\n",
       "      <td>34.0</td>\n",
       "      <td>Self Enquiry</td>\n",
       "      <td>1</td>\n",
       "      <td>12.0</td>\n",
       "      <td>Small Business</td>\n",
       "      <td>Male</td>\n",
       "      <td>2</td>\n",
       "      <td>3.0</td>\n",
       "      <td>Basic</td>\n",
       "      <td>5.0</td>\n",
       "      <td>Single</td>\n",
       "      <td>3.0</td>\n",
       "      <td>0</td>\n",
       "      <td>2</td>\n",
       "      <td>1</td>\n",
       "      <td>1.0</td>\n",
       "      <td>Executive</td>\n",
       "      <td>17960.0</td>\n",
       "    </tr>\n",
       "    <tr>\n",
       "      <th>33</th>\n",
       "      <td>200033</td>\n",
       "      <td>1</td>\n",
       "      <td>39.0</td>\n",
       "      <td>Self Enquiry</td>\n",
       "      <td>3</td>\n",
       "      <td>11.0</td>\n",
       "      <td>Large Business</td>\n",
       "      <td>Male</td>\n",
       "      <td>2</td>\n",
       "      <td>3.0</td>\n",
       "      <td>Deluxe</td>\n",
       "      <td>3.0</td>\n",
       "      <td>Divorced</td>\n",
       "      <td>4.0</td>\n",
       "      <td>0</td>\n",
       "      <td>2</td>\n",
       "      <td>0</td>\n",
       "      <td>1.0</td>\n",
       "      <td>Manager</td>\n",
       "      <td>17086.0</td>\n",
       "    </tr>\n",
       "  </tbody>\n",
       "</table>\n",
       "</div>"
      ],
      "text/plain": [
       "    CustomerID  ProdTaken   Age TypeofContact  CityTier  DurationOfPitch  \\\n",
       "0       200000          1  41.0  Self Enquiry         3              6.0   \n",
       "2       200002          1  37.0  Self Enquiry         1              8.0   \n",
       "14      200014          1  28.0  Self Enquiry         1             30.0   \n",
       "24      200024          1  34.0  Self Enquiry         1             12.0   \n",
       "33      200033          1  39.0  Self Enquiry         3             11.0   \n",
       "\n",
       "        Occupation  Gender  NumberOfPersonVisiting  NumberOfFollowups  \\\n",
       "0         Salaried  Female                       3                3.0   \n",
       "2      Free Lancer    Male                       3                4.0   \n",
       "14        Salaried    Male                       2                4.0   \n",
       "24  Small Business    Male                       2                3.0   \n",
       "33  Large Business    Male                       2                3.0   \n",
       "\n",
       "   ProductPitched  PreferredPropertyStar MaritalStatus  NumberOfTrips  \\\n",
       "0          Deluxe                    3.0        Single            1.0   \n",
       "2           Basic                    3.0        Single            7.0   \n",
       "14          Basic                    3.0        Single            6.0   \n",
       "24          Basic                    5.0        Single            3.0   \n",
       "33         Deluxe                    3.0      Divorced            4.0   \n",
       "\n",
       "    Passport  PitchSatisfactionScore  OwnCar  NumberOfChildrenVisiting  \\\n",
       "0          1                       2       1                       0.0   \n",
       "2          1                       3       0                       0.0   \n",
       "14         1                       2       0                       0.0   \n",
       "24         0                       2       1                       1.0   \n",
       "33         0                       2       0                       1.0   \n",
       "\n",
       "   Designation  MonthlyIncome  \n",
       "0      Manager        20993.0  \n",
       "2    Executive        17090.0  \n",
       "14   Executive        17028.0  \n",
       "24   Executive        17960.0  \n",
       "33     Manager        17086.0  "
      ]
     },
     "execution_count": 8,
     "metadata": {},
     "output_type": "execute_result"
    }
   ],
   "source": [
    "ProdTakendf.head()"
   ]
  },
  {
   "cell_type": "markdown",
   "id": "33a3efbe",
   "metadata": {},
   "source": [
    "## Subsetting to Only the Variables Needed"
   ]
  },
  {
   "cell_type": "code",
   "execution_count": 9,
   "id": "cf39bbf3",
   "metadata": {},
   "outputs": [],
   "source": [
    "Trips_df=ProdTakendf[[\"NumberOfTrips\", \"PitchSatisfactionScore\", \"PreferredPropertyStar\", \"NumberOfFollowups\", \"DurationOfPitch\", \"Age\", \"NumberOfChildrenVisiting\"]]"
   ]
  },
  {
   "cell_type": "code",
   "execution_count": 10,
   "id": "6f0f1aa7",
   "metadata": {},
   "outputs": [
    {
     "data": {
      "text/plain": [
       "(797, 7)"
      ]
     },
     "execution_count": 10,
     "metadata": {},
     "output_type": "execute_result"
    }
   ],
   "source": [
    "Trips_df.shape "
   ]
  },
  {
   "cell_type": "code",
   "execution_count": 11,
   "id": "ebb2ddff",
   "metadata": {},
   "outputs": [
    {
     "data": {
      "text/html": [
       "<div>\n",
       "<style scoped>\n",
       "    .dataframe tbody tr th:only-of-type {\n",
       "        vertical-align: middle;\n",
       "    }\n",
       "\n",
       "    .dataframe tbody tr th {\n",
       "        vertical-align: top;\n",
       "    }\n",
       "\n",
       "    .dataframe thead th {\n",
       "        text-align: right;\n",
       "    }\n",
       "</style>\n",
       "<table border=\"1\" class=\"dataframe\">\n",
       "  <thead>\n",
       "    <tr style=\"text-align: right;\">\n",
       "      <th></th>\n",
       "      <th>NumberOfTrips</th>\n",
       "      <th>PitchSatisfactionScore</th>\n",
       "      <th>PreferredPropertyStar</th>\n",
       "      <th>NumberOfFollowups</th>\n",
       "      <th>DurationOfPitch</th>\n",
       "      <th>Age</th>\n",
       "      <th>NumberOfChildrenVisiting</th>\n",
       "    </tr>\n",
       "  </thead>\n",
       "  <tbody>\n",
       "    <tr>\n",
       "      <th>0</th>\n",
       "      <td>1.0</td>\n",
       "      <td>2</td>\n",
       "      <td>3.0</td>\n",
       "      <td>3.0</td>\n",
       "      <td>6.0</td>\n",
       "      <td>41.0</td>\n",
       "      <td>0.0</td>\n",
       "    </tr>\n",
       "    <tr>\n",
       "      <th>2</th>\n",
       "      <td>7.0</td>\n",
       "      <td>3</td>\n",
       "      <td>3.0</td>\n",
       "      <td>4.0</td>\n",
       "      <td>8.0</td>\n",
       "      <td>37.0</td>\n",
       "      <td>0.0</td>\n",
       "    </tr>\n",
       "    <tr>\n",
       "      <th>14</th>\n",
       "      <td>6.0</td>\n",
       "      <td>2</td>\n",
       "      <td>3.0</td>\n",
       "      <td>4.0</td>\n",
       "      <td>30.0</td>\n",
       "      <td>28.0</td>\n",
       "      <td>0.0</td>\n",
       "    </tr>\n",
       "    <tr>\n",
       "      <th>24</th>\n",
       "      <td>3.0</td>\n",
       "      <td>2</td>\n",
       "      <td>5.0</td>\n",
       "      <td>3.0</td>\n",
       "      <td>12.0</td>\n",
       "      <td>34.0</td>\n",
       "      <td>1.0</td>\n",
       "    </tr>\n",
       "    <tr>\n",
       "      <th>33</th>\n",
       "      <td>4.0</td>\n",
       "      <td>2</td>\n",
       "      <td>3.0</td>\n",
       "      <td>3.0</td>\n",
       "      <td>11.0</td>\n",
       "      <td>39.0</td>\n",
       "      <td>1.0</td>\n",
       "    </tr>\n",
       "  </tbody>\n",
       "</table>\n",
       "</div>"
      ],
      "text/plain": [
       "    NumberOfTrips  PitchSatisfactionScore  PreferredPropertyStar  \\\n",
       "0             1.0                       2                    3.0   \n",
       "2             7.0                       3                    3.0   \n",
       "14            6.0                       2                    3.0   \n",
       "24            3.0                       2                    5.0   \n",
       "33            4.0                       2                    3.0   \n",
       "\n",
       "    NumberOfFollowups  DurationOfPitch   Age  NumberOfChildrenVisiting  \n",
       "0                 3.0              6.0  41.0                       0.0  \n",
       "2                 4.0              8.0  37.0                       0.0  \n",
       "14                4.0             30.0  28.0                       0.0  \n",
       "24                3.0             12.0  34.0                       1.0  \n",
       "33                3.0             11.0  39.0                       1.0  "
      ]
     },
     "execution_count": 11,
     "metadata": {},
     "output_type": "execute_result"
    }
   ],
   "source": [
    "Trips_df.head()"
   ]
  },
  {
   "cell_type": "markdown",
   "id": "064f5c68",
   "metadata": {},
   "source": [
    "## Check data types of remaining column "
   ]
  },
  {
   "cell_type": "code",
   "execution_count": 12,
   "id": "8f8fc464",
   "metadata": {},
   "outputs": [
    {
     "name": "stdout",
     "output_type": "stream",
     "text": [
      "<class 'pandas.core.frame.DataFrame'>\n",
      "Int64Index: 797 entries, 0 to 4887\n",
      "Data columns (total 7 columns):\n",
      " #   Column                    Non-Null Count  Dtype  \n",
      "---  ------                    --------------  -----  \n",
      " 0   NumberOfTrips             797 non-null    float64\n",
      " 1   PitchSatisfactionScore    797 non-null    int64  \n",
      " 2   PreferredPropertyStar     797 non-null    float64\n",
      " 3   NumberOfFollowups         797 non-null    float64\n",
      " 4   DurationOfPitch           797 non-null    float64\n",
      " 5   Age                       797 non-null    float64\n",
      " 6   NumberOfChildrenVisiting  797 non-null    float64\n",
      "dtypes: float64(6), int64(1)\n",
      "memory usage: 49.8 KB\n"
     ]
    }
   ],
   "source": [
    "Trips_df.info()"
   ]
  },
  {
   "cell_type": "markdown",
   "id": "8bce0f17",
   "metadata": {},
   "source": [
    "## Converting datatype "
   ]
  },
  {
   "cell_type": "code",
   "execution_count": 13,
   "id": "5ade1d1a",
   "metadata": {},
   "outputs": [
    {
     "name": "stderr",
     "output_type": "stream",
     "text": [
      "C:\\Users\\Quy\\anaconda3\\lib\\site-packages\\pandas\\core\\generic.py:5494: SettingWithCopyWarning: \n",
      "A value is trying to be set on a copy of a slice from a DataFrame.\n",
      "Try using .loc[row_indexer,col_indexer] = value instead\n",
      "\n",
      "See the caveats in the documentation: https://pandas.pydata.org/pandas-docs/stable/user_guide/indexing.html#returning-a-view-versus-a-copy\n",
      "  self[name] = value\n"
     ]
    }
   ],
   "source": [
    "Trips_df.Age = np.round (Trips_df.Age)"
   ]
  },
  {
   "cell_type": "code",
   "execution_count": 14,
   "id": "bff482e3",
   "metadata": {},
   "outputs": [],
   "source": [
    "Trips_df.NumberOfTrips = Trips_df.NumberOfTrips.astype(int)\n",
    "Trips_df.PreferredPropertyStar = Trips_df.PreferredPropertyStar.astype(int)\n",
    "Trips_df.PitchSatisfactionScore = Trips_df.PitchSatisfactionScore.astype(int)\n",
    "Trips_df.Age = Trips_df.Age.astype(int)\n",
    "Trips_df.NumberOfFollowups = Trips_df.NumberOfFollowups.astype(int)\n",
    "Trips_df.DurationOfPitch = Trips_df.DurationOfPitch.astype(int)\n",
    "Trips_df.NumberOfChildrenVisiting = Trips_df.NumberOfChildrenVisiting.astype(int)"
   ]
  },
  {
   "cell_type": "code",
   "execution_count": 15,
   "id": "dbde56f5",
   "metadata": {},
   "outputs": [
    {
     "name": "stdout",
     "output_type": "stream",
     "text": [
      "<class 'pandas.core.frame.DataFrame'>\n",
      "Int64Index: 797 entries, 0 to 4887\n",
      "Data columns (total 7 columns):\n",
      " #   Column                    Non-Null Count  Dtype\n",
      "---  ------                    --------------  -----\n",
      " 0   NumberOfTrips             797 non-null    int32\n",
      " 1   PitchSatisfactionScore    797 non-null    int32\n",
      " 2   PreferredPropertyStar     797 non-null    int32\n",
      " 3   NumberOfFollowups         797 non-null    int32\n",
      " 4   DurationOfPitch           797 non-null    int32\n",
      " 5   Age                       797 non-null    int32\n",
      " 6   NumberOfChildrenVisiting  797 non-null    int32\n",
      "dtypes: int32(7)\n",
      "memory usage: 28.0 KB\n"
     ]
    }
   ],
   "source": [
    "Trips_df.info()"
   ]
  },
  {
   "cell_type": "markdown",
   "id": "889492ea",
   "metadata": {},
   "source": [
    "### Defining X and Y"
   ]
  },
  {
   "cell_type": "code",
   "execution_count": 16,
   "id": "47bcae18",
   "metadata": {},
   "outputs": [],
   "source": [
    "x_columns  = [\"PitchSatisfactionScore\", \"PreferredPropertyStar\", \"NumberOfFollowups\", \"NumberOfChildrenVisiting\",\"DurationOfPitch\", \"Age\"]\n",
    "y = Trips_df['NumberOfTrips']"
   ]
  },
  {
   "cell_type": "code",
   "execution_count": 17,
   "id": "900eb91a",
   "metadata": {},
   "outputs": [
    {
     "data": {
      "text/plain": [
       "0     1\n",
       "2     7\n",
       "14    6\n",
       "24    3\n",
       "33    4\n",
       "Name: NumberOfTrips, dtype: int32"
      ]
     },
     "execution_count": 17,
     "metadata": {},
     "output_type": "execute_result"
    }
   ],
   "source": [
    "y.head()"
   ]
  },
  {
   "cell_type": "markdown",
   "id": "50db7085",
   "metadata": {},
   "source": [
    "## Creating function to get model statistics"
   ]
  },
  {
   "cell_type": "code",
   "execution_count": 18,
   "id": "0d68d016",
   "metadata": {},
   "outputs": [],
   "source": [
    "def get_stats():\n",
    "    x = Trips_df[x_columns]\n",
    "    results = sm.OLS(y, x).fit()\n",
    "    print(results.summary())"
   ]
  },
  {
   "cell_type": "code",
   "execution_count": 19,
   "id": "12c0ead2",
   "metadata": {},
   "outputs": [
    {
     "name": "stdout",
     "output_type": "stream",
     "text": [
      "                                 OLS Regression Results                                \n",
      "=======================================================================================\n",
      "Dep. Variable:          NumberOfTrips   R-squared (uncentered):                   0.737\n",
      "Model:                            OLS   Adj. R-squared (uncentered):              0.735\n",
      "Method:                 Least Squares   F-statistic:                              369.8\n",
      "Date:                Sat, 04 Dec 2021   Prob (F-statistic):                   1.26e-225\n",
      "Time:                        14:14:22   Log-Likelihood:                         -1691.5\n",
      "No. Observations:                 797   AIC:                                      3395.\n",
      "Df Residuals:                     791   BIC:                                      3423.\n",
      "Df Model:                           6                                                  \n",
      "Covariance Type:            nonrobust                                                  \n",
      "============================================================================================\n",
      "                               coef    std err          t      P>|t|      [0.025      0.975]\n",
      "--------------------------------------------------------------------------------------------\n",
      "PitchSatisfactionScore      -0.0758      0.051     -1.486      0.138      -0.176       0.024\n",
      "PreferredPropertyStar        0.2178      0.066      3.283      0.001       0.088       0.348\n",
      "NumberOfFollowups            0.2378      0.064      3.736      0.000       0.113       0.363\n",
      "NumberOfChildrenVisiting     0.4709      0.089      5.296      0.000       0.296       0.645\n",
      "DurationOfPitch              0.0099      0.008      1.208      0.227      -0.006       0.026\n",
      "Age                          0.0307      0.006      4.863      0.000       0.018       0.043\n",
      "==============================================================================\n",
      "Omnibus:                      395.167   Durbin-Watson:                   2.130\n",
      "Prob(Omnibus):                  0.000   Jarque-Bera (JB):             4035.012\n",
      "Skew:                           1.998   Prob(JB):                         0.00\n",
      "Kurtosis:                      13.273   Cond. No.                         52.2\n",
      "==============================================================================\n",
      "\n",
      "Notes:\n",
      "[1] R² is computed without centering (uncentered) since the model does not contain a constant.\n",
      "[2] Standard Errors assume that the covariance matrix of the errors is correctly specified.\n"
     ]
    }
   ],
   "source": [
    "get_stats()"
   ]
  },
  {
   "cell_type": "markdown",
   "id": "685b7c8b",
   "metadata": {},
   "source": [
    "Variables with the highest p-value > 0.05 is NumberOfChildrenVisiting (0.296)."
   ]
  },
  {
   "cell_type": "markdown",
   "id": "ebe8e806",
   "metadata": {},
   "source": [
    "## Drop insignification variables"
   ]
  },
  {
   "cell_type": "markdown",
   "id": "7cea9a89",
   "metadata": {},
   "source": [
    "### Drop NumberOfChildrenVisiting"
   ]
  },
  {
   "cell_type": "code",
   "execution_count": 20,
   "id": "9ce02aaa",
   "metadata": {},
   "outputs": [],
   "source": [
    "x_columns.remove(\"NumberOfChildrenVisiting\")"
   ]
  },
  {
   "cell_type": "code",
   "execution_count": 21,
   "id": "78999147",
   "metadata": {},
   "outputs": [],
   "source": [
    "y = Trips_df['NumberOfTrips']"
   ]
  },
  {
   "cell_type": "markdown",
   "id": "dc101599",
   "metadata": {},
   "source": [
    "### Creating function to get model statistics"
   ]
  },
  {
   "cell_type": "code",
   "execution_count": 22,
   "id": "c53af8c8",
   "metadata": {},
   "outputs": [],
   "source": [
    "def get_stats():\n",
    "    x = Trips_df[x_columns]\n",
    "    results = sm.OLS(y, x).fit()\n",
    "    print(results.summary())"
   ]
  },
  {
   "cell_type": "code",
   "execution_count": 23,
   "id": "2c15d48c",
   "metadata": {},
   "outputs": [
    {
     "name": "stdout",
     "output_type": "stream",
     "text": [
      "                                 OLS Regression Results                                \n",
      "=======================================================================================\n",
      "Dep. Variable:          NumberOfTrips   R-squared (uncentered):                   0.728\n",
      "Model:                            OLS   Adj. R-squared (uncentered):              0.726\n",
      "Method:                 Least Squares   F-statistic:                              423.7\n",
      "Date:                Sat, 04 Dec 2021   Prob (F-statistic):                   5.50e-221\n",
      "Time:                        14:14:23   Log-Likelihood:                         -1705.4\n",
      "No. Observations:                 797   AIC:                                      3421.\n",
      "Df Residuals:                     792   BIC:                                      3444.\n",
      "Df Model:                           5                                                  \n",
      "Covariance Type:            nonrobust                                                  \n",
      "==========================================================================================\n",
      "                             coef    std err          t      P>|t|      [0.025      0.975]\n",
      "------------------------------------------------------------------------------------------\n",
      "PitchSatisfactionScore    -0.0690      0.052     -1.330      0.184      -0.171       0.033\n",
      "PreferredPropertyStar      0.2226      0.067      3.300      0.001       0.090       0.355\n",
      "NumberOfFollowups          0.3517      0.061      5.774      0.000       0.232       0.471\n",
      "DurationOfPitch            0.0129      0.008      1.542      0.124      -0.004       0.029\n",
      "Age                        0.0320      0.006      4.986      0.000       0.019       0.045\n",
      "==============================================================================\n",
      "Omnibus:                      390.392   Durbin-Watson:                   2.098\n",
      "Prob(Omnibus):                  0.000   Jarque-Bera (JB):             3862.133\n",
      "Skew:                           1.979   Prob(JB):                         0.00\n",
      "Kurtosis:                      13.032   Cond. No.                         42.6\n",
      "==============================================================================\n",
      "\n",
      "Notes:\n",
      "[1] R² is computed without centering (uncentered) since the model does not contain a constant.\n",
      "[2] Standard Errors assume that the covariance matrix of the errors is correctly specified.\n"
     ]
    }
   ],
   "source": [
    "get_stats()"
   ]
  },
  {
   "cell_type": "markdown",
   "id": "f10c3865",
   "metadata": {},
   "source": [
    "Variables with the highest p-value > 0.05 is NumberOfFollowups (0.232)."
   ]
  },
  {
   "cell_type": "markdown",
   "id": "19d75f34",
   "metadata": {},
   "source": [
    "### Drop  NumberOfFollowups"
   ]
  },
  {
   "cell_type": "code",
   "execution_count": 24,
   "id": "b0890983",
   "metadata": {},
   "outputs": [],
   "source": [
    "x_columns.remove(\"NumberOfFollowups\")"
   ]
  },
  {
   "cell_type": "markdown",
   "id": "877e9e18",
   "metadata": {},
   "source": [
    "### Creating function to get model statistics"
   ]
  },
  {
   "cell_type": "code",
   "execution_count": 25,
   "id": "2bb4bf65",
   "metadata": {},
   "outputs": [],
   "source": [
    "def get_stats():\n",
    "    x = Trips_df[x_columns]\n",
    "    results = sm.OLS(y, x).fit()\n",
    "    print(results.summary())"
   ]
  },
  {
   "cell_type": "code",
   "execution_count": 26,
   "id": "985e1275",
   "metadata": {},
   "outputs": [
    {
     "name": "stdout",
     "output_type": "stream",
     "text": [
      "                                 OLS Regression Results                                \n",
      "=======================================================================================\n",
      "Dep. Variable:          NumberOfTrips   R-squared (uncentered):                   0.716\n",
      "Model:                            OLS   Adj. R-squared (uncentered):              0.715\n",
      "Method:                 Least Squares   F-statistic:                              500.8\n",
      "Date:                Sat, 04 Dec 2021   Prob (F-statistic):                   2.79e-215\n",
      "Time:                        14:18:25   Log-Likelihood:                         -1721.8\n",
      "No. Observations:                 797   AIC:                                      3452.\n",
      "Df Residuals:                     793   BIC:                                      3470.\n",
      "Df Model:                           4                                                  \n",
      "Covariance Type:            nonrobust                                                  \n",
      "==========================================================================================\n",
      "                             coef    std err          t      P>|t|      [0.025      0.975]\n",
      "------------------------------------------------------------------------------------------\n",
      "PitchSatisfactionScore    -0.0062      0.052     -0.121      0.904      -0.108       0.095\n",
      "PreferredPropertyStar      0.3972      0.062      6.456      0.000       0.276       0.518\n",
      "DurationOfPitch            0.0186      0.008      2.198      0.028       0.002       0.035\n",
      "Age                        0.0439      0.006      7.105      0.000       0.032       0.056\n",
      "==============================================================================\n",
      "Omnibus:                      366.238   Durbin-Watson:                   2.030\n",
      "Prob(Omnibus):                  0.000   Jarque-Bera (JB):             3335.730\n",
      "Skew:                           1.851   Prob(JB):                         0.00\n",
      "Kurtosis:                      12.313   Cond. No.                         36.3\n",
      "==============================================================================\n",
      "\n",
      "Notes:\n",
      "[1] R² is computed without centering (uncentered) since the model does not contain a constant.\n",
      "[2] Standard Errors assume that the covariance matrix of the errors is correctly specified.\n"
     ]
    }
   ],
   "source": [
    "get_stats()"
   ]
  },
  {
   "cell_type": "markdown",
   "id": "bc81e422",
   "metadata": {},
   "source": [
    "Variables with the highest p-value > 0.05 is PreferredPropertyStar (0.276)."
   ]
  },
  {
   "cell_type": "markdown",
   "id": "dcaef7db",
   "metadata": {},
   "source": [
    "## Drop PreferredPropertyStar"
   ]
  },
  {
   "cell_type": "code",
   "execution_count": 28,
   "id": "6b537b33",
   "metadata": {},
   "outputs": [],
   "source": [
    "x_columns.remove(\"PreferredPropertyStar\")"
   ]
  },
  {
   "cell_type": "markdown",
   "id": "e93cbc78",
   "metadata": {},
   "source": [
    "### Creating function to get model statistics"
   ]
  },
  {
   "cell_type": "code",
   "execution_count": 29,
   "id": "fa244538",
   "metadata": {},
   "outputs": [],
   "source": [
    "def get_stats():\n",
    "    x = Trips_df[x_columns]\n",
    "    results = sm.OLS(y, x).fit()\n",
    "    print(results.summary())"
   ]
  },
  {
   "cell_type": "code",
   "execution_count": 30,
   "id": "ea3f57c7",
   "metadata": {},
   "outputs": [
    {
     "name": "stdout",
     "output_type": "stream",
     "text": [
      "                                 OLS Regression Results                                \n",
      "=======================================================================================\n",
      "Dep. Variable:          NumberOfTrips   R-squared (uncentered):                   0.702\n",
      "Model:                            OLS   Adj. R-squared (uncentered):              0.700\n",
      "Method:                 Least Squares   F-statistic:                              622.0\n",
      "Date:                Sat, 04 Dec 2021   Prob (F-statistic):                   6.69e-208\n",
      "Time:                        14:20:37   Log-Likelihood:                         -1742.2\n",
      "No. Observations:                 797   AIC:                                      3490.\n",
      "Df Residuals:                     794   BIC:                                      3504.\n",
      "Df Model:                           3                                                  \n",
      "Covariance Type:            nonrobust                                                  \n",
      "==========================================================================================\n",
      "                             coef    std err          t      P>|t|      [0.025      0.975]\n",
      "------------------------------------------------------------------------------------------\n",
      "PitchSatisfactionScore     0.1260      0.049      2.586      0.010       0.030       0.222\n",
      "DurationOfPitch            0.0343      0.008      4.125      0.000       0.018       0.051\n",
      "Age                        0.0651      0.005     12.087      0.000       0.054       0.076\n",
      "==============================================================================\n",
      "Omnibus:                      329.054   Durbin-Watson:                   1.953\n",
      "Prob(Omnibus):                  0.000   Jarque-Bera (JB):             2504.137\n",
      "Skew:                           1.680   Prob(JB):                         0.00\n",
      "Kurtosis:                      11.007   Cond. No.                         25.4\n",
      "==============================================================================\n",
      "\n",
      "Notes:\n",
      "[1] R² is computed without centering (uncentered) since the model does not contain a constant.\n",
      "[2] Standard Errors assume that the covariance matrix of the errors is correctly specified.\n"
     ]
    }
   ],
   "source": [
    "get_stats()"
   ]
  },
  {
   "cell_type": "markdown",
   "id": "8d6c8636",
   "metadata": {},
   "source": [
    "The p-value of the remaining variable are less than 0.05 except for Age =0.05.  We Will exam the mean for these variable."
   ]
  },
  {
   "cell_type": "code",
   "execution_count": null,
   "id": "9b51167e",
   "metadata": {},
   "outputs": [],
   "source": []
  }
 ],
 "metadata": {
  "kernelspec": {
   "display_name": "Python 3",
   "language": "python",
   "name": "python3"
  },
  "language_info": {
   "codemirror_mode": {
    "name": "ipython",
    "version": 3
   },
   "file_extension": ".py",
   "mimetype": "text/x-python",
   "name": "python",
   "nbconvert_exporter": "python",
   "pygments_lexer": "ipython3",
   "version": "3.8.8"
  }
 },
 "nbformat": 4,
 "nbformat_minor": 5
}
