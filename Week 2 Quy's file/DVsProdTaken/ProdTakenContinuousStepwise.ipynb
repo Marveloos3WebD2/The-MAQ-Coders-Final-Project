{
 "cells": [
  {
   "cell_type": "markdown",
   "id": "dd192bc0",
   "metadata": {},
   "source": [
    "# Import packages"
   ]
  },
  {
   "cell_type": "code",
   "execution_count": 1,
   "id": "d975d646",
   "metadata": {},
   "outputs": [],
   "source": [
    "import pandas as pd\n",
    "import numpy as np\n",
    "import statsmodels.api as sm\n",
    "import matplotlib.pyplot as plt\n",
    "from pylab import *\n",
    "import seaborn as sns\n",
    "from sklearn.utils import shuffle\n",
    "%matplotlib inline\n",
    "%matplotlib inline\n",
    "from sklearn.model_selection import train_test_split\n",
    "from sklearn.tree import DecisionTreeClassifier\n",
    "from sklearn.metrics import classification_report, confusion_matrix, accuracy_score"
   ]
  },
  {
   "cell_type": "markdown",
   "id": "6d6bf993",
   "metadata": {},
   "source": [
    "# Import Data"
   ]
  },
  {
   "cell_type": "code",
   "execution_count": 2,
   "id": "30f35cd5",
   "metadata": {},
   "outputs": [],
   "source": [
    "Travel = pd.read_csv(\"Travel.csv\")"
   ]
  },
  {
   "cell_type": "markdown",
   "id": "9be17b92",
   "metadata": {},
   "source": [
    "## Question Setup: Is there a difference in age, monthly income, number of follow up, pitch duration among those who taken a product or not. "
   ]
  },
  {
   "cell_type": "code",
   "execution_count": 4,
   "id": "584ef3b2",
   "metadata": {},
   "outputs": [
    {
     "data": {
      "text/html": [
       "<div>\n",
       "<style scoped>\n",
       "    .dataframe tbody tr th:only-of-type {\n",
       "        vertical-align: middle;\n",
       "    }\n",
       "\n",
       "    .dataframe tbody tr th {\n",
       "        vertical-align: top;\n",
       "    }\n",
       "\n",
       "    .dataframe thead th {\n",
       "        text-align: right;\n",
       "    }\n",
       "</style>\n",
       "<table border=\"1\" class=\"dataframe\">\n",
       "  <thead>\n",
       "    <tr style=\"text-align: right;\">\n",
       "      <th></th>\n",
       "      <th>CustomerID</th>\n",
       "      <th>ProdTaken</th>\n",
       "      <th>Age</th>\n",
       "      <th>TypeofContact</th>\n",
       "      <th>CityTier</th>\n",
       "      <th>DurationOfPitch</th>\n",
       "      <th>Occupation</th>\n",
       "      <th>Gender</th>\n",
       "      <th>NumberOfPersonVisiting</th>\n",
       "      <th>NumberOfFollowups</th>\n",
       "      <th>ProductPitched</th>\n",
       "      <th>PreferredPropertyStar</th>\n",
       "      <th>MaritalStatus</th>\n",
       "      <th>NumberOfTrips</th>\n",
       "      <th>Passport</th>\n",
       "      <th>PitchSatisfactionScore</th>\n",
       "      <th>OwnCar</th>\n",
       "      <th>NumberOfChildrenVisiting</th>\n",
       "      <th>Designation</th>\n",
       "      <th>MonthlyIncome</th>\n",
       "    </tr>\n",
       "  </thead>\n",
       "  <tbody>\n",
       "    <tr>\n",
       "      <th>0</th>\n",
       "      <td>200000</td>\n",
       "      <td>1</td>\n",
       "      <td>41.0</td>\n",
       "      <td>Self Enquiry</td>\n",
       "      <td>3</td>\n",
       "      <td>6.0</td>\n",
       "      <td>Salaried</td>\n",
       "      <td>Female</td>\n",
       "      <td>3</td>\n",
       "      <td>3.0</td>\n",
       "      <td>Deluxe</td>\n",
       "      <td>3.0</td>\n",
       "      <td>Single</td>\n",
       "      <td>1.0</td>\n",
       "      <td>1</td>\n",
       "      <td>2</td>\n",
       "      <td>1</td>\n",
       "      <td>0.0</td>\n",
       "      <td>Manager</td>\n",
       "      <td>20993.0</td>\n",
       "    </tr>\n",
       "    <tr>\n",
       "      <th>1</th>\n",
       "      <td>200001</td>\n",
       "      <td>0</td>\n",
       "      <td>49.0</td>\n",
       "      <td>Company Invited</td>\n",
       "      <td>1</td>\n",
       "      <td>14.0</td>\n",
       "      <td>Salaried</td>\n",
       "      <td>Male</td>\n",
       "      <td>3</td>\n",
       "      <td>4.0</td>\n",
       "      <td>Deluxe</td>\n",
       "      <td>4.0</td>\n",
       "      <td>Divorced</td>\n",
       "      <td>2.0</td>\n",
       "      <td>0</td>\n",
       "      <td>3</td>\n",
       "      <td>1</td>\n",
       "      <td>2.0</td>\n",
       "      <td>Manager</td>\n",
       "      <td>20130.0</td>\n",
       "    </tr>\n",
       "    <tr>\n",
       "      <th>2</th>\n",
       "      <td>200002</td>\n",
       "      <td>1</td>\n",
       "      <td>37.0</td>\n",
       "      <td>Self Enquiry</td>\n",
       "      <td>1</td>\n",
       "      <td>8.0</td>\n",
       "      <td>Free Lancer</td>\n",
       "      <td>Male</td>\n",
       "      <td>3</td>\n",
       "      <td>4.0</td>\n",
       "      <td>Basic</td>\n",
       "      <td>3.0</td>\n",
       "      <td>Single</td>\n",
       "      <td>7.0</td>\n",
       "      <td>1</td>\n",
       "      <td>3</td>\n",
       "      <td>0</td>\n",
       "      <td>0.0</td>\n",
       "      <td>Executive</td>\n",
       "      <td>17090.0</td>\n",
       "    </tr>\n",
       "    <tr>\n",
       "      <th>3</th>\n",
       "      <td>200003</td>\n",
       "      <td>0</td>\n",
       "      <td>33.0</td>\n",
       "      <td>Company Invited</td>\n",
       "      <td>1</td>\n",
       "      <td>9.0</td>\n",
       "      <td>Salaried</td>\n",
       "      <td>Female</td>\n",
       "      <td>2</td>\n",
       "      <td>3.0</td>\n",
       "      <td>Basic</td>\n",
       "      <td>3.0</td>\n",
       "      <td>Divorced</td>\n",
       "      <td>2.0</td>\n",
       "      <td>1</td>\n",
       "      <td>5</td>\n",
       "      <td>1</td>\n",
       "      <td>1.0</td>\n",
       "      <td>Executive</td>\n",
       "      <td>17909.0</td>\n",
       "    </tr>\n",
       "    <tr>\n",
       "      <th>4</th>\n",
       "      <td>200004</td>\n",
       "      <td>0</td>\n",
       "      <td>NaN</td>\n",
       "      <td>Self Enquiry</td>\n",
       "      <td>1</td>\n",
       "      <td>8.0</td>\n",
       "      <td>Small Business</td>\n",
       "      <td>Male</td>\n",
       "      <td>2</td>\n",
       "      <td>3.0</td>\n",
       "      <td>Basic</td>\n",
       "      <td>4.0</td>\n",
       "      <td>Divorced</td>\n",
       "      <td>1.0</td>\n",
       "      <td>0</td>\n",
       "      <td>5</td>\n",
       "      <td>1</td>\n",
       "      <td>0.0</td>\n",
       "      <td>Executive</td>\n",
       "      <td>18468.0</td>\n",
       "    </tr>\n",
       "  </tbody>\n",
       "</table>\n",
       "</div>"
      ],
      "text/plain": [
       "   CustomerID  ProdTaken   Age    TypeofContact  CityTier  DurationOfPitch  \\\n",
       "0      200000          1  41.0     Self Enquiry         3              6.0   \n",
       "1      200001          0  49.0  Company Invited         1             14.0   \n",
       "2      200002          1  37.0     Self Enquiry         1              8.0   \n",
       "3      200003          0  33.0  Company Invited         1              9.0   \n",
       "4      200004          0   NaN     Self Enquiry         1              8.0   \n",
       "\n",
       "       Occupation  Gender  NumberOfPersonVisiting  NumberOfFollowups  \\\n",
       "0        Salaried  Female                       3                3.0   \n",
       "1        Salaried    Male                       3                4.0   \n",
       "2     Free Lancer    Male                       3                4.0   \n",
       "3        Salaried  Female                       2                3.0   \n",
       "4  Small Business    Male                       2                3.0   \n",
       "\n",
       "  ProductPitched  PreferredPropertyStar MaritalStatus  NumberOfTrips  \\\n",
       "0         Deluxe                    3.0        Single            1.0   \n",
       "1         Deluxe                    4.0      Divorced            2.0   \n",
       "2          Basic                    3.0        Single            7.0   \n",
       "3          Basic                    3.0      Divorced            2.0   \n",
       "4          Basic                    4.0      Divorced            1.0   \n",
       "\n",
       "   Passport  PitchSatisfactionScore  OwnCar  NumberOfChildrenVisiting  \\\n",
       "0         1                       2       1                       0.0   \n",
       "1         0                       3       1                       2.0   \n",
       "2         1                       3       0                       0.0   \n",
       "3         1                       5       1                       1.0   \n",
       "4         0                       5       1                       0.0   \n",
       "\n",
       "  Designation  MonthlyIncome  \n",
       "0     Manager        20993.0  \n",
       "1     Manager        20130.0  \n",
       "2   Executive        17090.0  \n",
       "3   Executive        17909.0  \n",
       "4   Executive        18468.0  "
      ]
     },
     "execution_count": 4,
     "metadata": {},
     "output_type": "execute_result"
    }
   ],
   "source": [
    "Travel.head()"
   ]
  },
  {
   "cell_type": "code",
   "execution_count": 5,
   "id": "5517866f",
   "metadata": {},
   "outputs": [],
   "source": [
    "Travel.dropna(inplace=True)"
   ]
  },
  {
   "cell_type": "code",
   "execution_count": 21,
   "id": "7f4cf2fb",
   "metadata": {},
   "outputs": [],
   "source": [
    "TravelDrop=Travel[[\"ProdTaken\", \"NumberOfTrips\", \"NumberOfPersonVisiting\", \"NumberOfFollowups\", \"Age\", \"DurationOfPitch\", \"MonthlyIncome\"]]"
   ]
  },
  {
   "cell_type": "code",
   "execution_count": 22,
   "id": "77744441",
   "metadata": {},
   "outputs": [
    {
     "data": {
      "text/plain": [
       "(4128, 7)"
      ]
     },
     "execution_count": 22,
     "metadata": {},
     "output_type": "execute_result"
    }
   ],
   "source": [
    "TravelDrop.shape "
   ]
  },
  {
   "cell_type": "code",
   "execution_count": 23,
   "id": "b33534a5",
   "metadata": {},
   "outputs": [
    {
     "data": {
      "text/html": [
       "<div>\n",
       "<style scoped>\n",
       "    .dataframe tbody tr th:only-of-type {\n",
       "        vertical-align: middle;\n",
       "    }\n",
       "\n",
       "    .dataframe tbody tr th {\n",
       "        vertical-align: top;\n",
       "    }\n",
       "\n",
       "    .dataframe thead th {\n",
       "        text-align: right;\n",
       "    }\n",
       "</style>\n",
       "<table border=\"1\" class=\"dataframe\">\n",
       "  <thead>\n",
       "    <tr style=\"text-align: right;\">\n",
       "      <th></th>\n",
       "      <th>ProdTaken</th>\n",
       "      <th>NumberOfTrips</th>\n",
       "      <th>NumberOfPersonVisiting</th>\n",
       "      <th>NumberOfFollowups</th>\n",
       "      <th>Age</th>\n",
       "      <th>DurationOfPitch</th>\n",
       "      <th>MonthlyIncome</th>\n",
       "    </tr>\n",
       "  </thead>\n",
       "  <tbody>\n",
       "    <tr>\n",
       "      <th>0</th>\n",
       "      <td>1</td>\n",
       "      <td>1.0</td>\n",
       "      <td>3</td>\n",
       "      <td>3.0</td>\n",
       "      <td>41.0</td>\n",
       "      <td>6.0</td>\n",
       "      <td>20993.0</td>\n",
       "    </tr>\n",
       "    <tr>\n",
       "      <th>1</th>\n",
       "      <td>0</td>\n",
       "      <td>2.0</td>\n",
       "      <td>3</td>\n",
       "      <td>4.0</td>\n",
       "      <td>49.0</td>\n",
       "      <td>14.0</td>\n",
       "      <td>20130.0</td>\n",
       "    </tr>\n",
       "    <tr>\n",
       "      <th>2</th>\n",
       "      <td>1</td>\n",
       "      <td>7.0</td>\n",
       "      <td>3</td>\n",
       "      <td>4.0</td>\n",
       "      <td>37.0</td>\n",
       "      <td>8.0</td>\n",
       "      <td>17090.0</td>\n",
       "    </tr>\n",
       "    <tr>\n",
       "      <th>3</th>\n",
       "      <td>0</td>\n",
       "      <td>2.0</td>\n",
       "      <td>2</td>\n",
       "      <td>3.0</td>\n",
       "      <td>33.0</td>\n",
       "      <td>9.0</td>\n",
       "      <td>17909.0</td>\n",
       "    </tr>\n",
       "    <tr>\n",
       "      <th>5</th>\n",
       "      <td>0</td>\n",
       "      <td>1.0</td>\n",
       "      <td>3</td>\n",
       "      <td>3.0</td>\n",
       "      <td>32.0</td>\n",
       "      <td>8.0</td>\n",
       "      <td>18068.0</td>\n",
       "    </tr>\n",
       "  </tbody>\n",
       "</table>\n",
       "</div>"
      ],
      "text/plain": [
       "   ProdTaken  NumberOfTrips  NumberOfPersonVisiting  NumberOfFollowups   Age  \\\n",
       "0          1            1.0                       3                3.0  41.0   \n",
       "1          0            2.0                       3                4.0  49.0   \n",
       "2          1            7.0                       3                4.0  37.0   \n",
       "3          0            2.0                       2                3.0  33.0   \n",
       "5          0            1.0                       3                3.0  32.0   \n",
       "\n",
       "   DurationOfPitch  MonthlyIncome  \n",
       "0              6.0        20993.0  \n",
       "1             14.0        20130.0  \n",
       "2              8.0        17090.0  \n",
       "3              9.0        17909.0  \n",
       "5              8.0        18068.0  "
      ]
     },
     "execution_count": 23,
     "metadata": {},
     "output_type": "execute_result"
    }
   ],
   "source": [
    "TravelDrop.head()"
   ]
  },
  {
   "cell_type": "markdown",
   "id": "36e5589a",
   "metadata": {},
   "source": [
    "## Check data types of remaining column "
   ]
  },
  {
   "cell_type": "code",
   "execution_count": 24,
   "id": "3a065de1",
   "metadata": {},
   "outputs": [
    {
     "name": "stdout",
     "output_type": "stream",
     "text": [
      "<class 'pandas.core.frame.DataFrame'>\n",
      "Int64Index: 4128 entries, 0 to 4887\n",
      "Data columns (total 7 columns):\n",
      " #   Column                  Non-Null Count  Dtype  \n",
      "---  ------                  --------------  -----  \n",
      " 0   ProdTaken               4128 non-null   int64  \n",
      " 1   NumberOfTrips           4128 non-null   float64\n",
      " 2   NumberOfPersonVisiting  4128 non-null   int64  \n",
      " 3   NumberOfFollowups       4128 non-null   float64\n",
      " 4   Age                     4128 non-null   float64\n",
      " 5   DurationOfPitch         4128 non-null   float64\n",
      " 6   MonthlyIncome           4128 non-null   float64\n",
      "dtypes: float64(5), int64(2)\n",
      "memory usage: 258.0 KB\n"
     ]
    }
   ],
   "source": [
    "TravelDrop.info()"
   ]
  },
  {
   "cell_type": "markdown",
   "id": "be88732a",
   "metadata": {},
   "source": [
    "## Converting datatype "
   ]
  },
  {
   "cell_type": "code",
   "execution_count": 25,
   "id": "cb19b67f",
   "metadata": {},
   "outputs": [
    {
     "name": "stderr",
     "output_type": "stream",
     "text": [
      "C:\\Users\\Quy\\anaconda3\\lib\\site-packages\\pandas\\core\\generic.py:5494: SettingWithCopyWarning: \n",
      "A value is trying to be set on a copy of a slice from a DataFrame.\n",
      "Try using .loc[row_indexer,col_indexer] = value instead\n",
      "\n",
      "See the caveats in the documentation: https://pandas.pydata.org/pandas-docs/stable/user_guide/indexing.html#returning-a-view-versus-a-copy\n",
      "  self[name] = value\n"
     ]
    }
   ],
   "source": [
    "TravelDrop.Age = np.round (TravelDrop.Age)"
   ]
  },
  {
   "cell_type": "code",
   "execution_count": 26,
   "id": "cf7ed438",
   "metadata": {},
   "outputs": [],
   "source": [
    "TravelDrop.NumberOfTrips = TravelDrop.NumberOfTrips.astype(int)\n",
    "TravelDrop.Age = TravelDrop.Age.astype(int)\n",
    "TravelDrop.DurationOfPitch = TravelDrop.DurationOfPitch.astype(int)\n",
    "TravelDrop.MonthlyIncome = TravelDrop.MonthlyIncome.astype(int)"
   ]
  },
  {
   "cell_type": "code",
   "execution_count": 27,
   "id": "90a2f9e3",
   "metadata": {},
   "outputs": [
    {
     "name": "stdout",
     "output_type": "stream",
     "text": [
      "<class 'pandas.core.frame.DataFrame'>\n",
      "Int64Index: 4128 entries, 0 to 4887\n",
      "Data columns (total 7 columns):\n",
      " #   Column                  Non-Null Count  Dtype  \n",
      "---  ------                  --------------  -----  \n",
      " 0   ProdTaken               4128 non-null   int64  \n",
      " 1   NumberOfTrips           4128 non-null   int32  \n",
      " 2   NumberOfPersonVisiting  4128 non-null   int64  \n",
      " 3   NumberOfFollowups       4128 non-null   float64\n",
      " 4   Age                     4128 non-null   int32  \n",
      " 5   DurationOfPitch         4128 non-null   int32  \n",
      " 6   MonthlyIncome           4128 non-null   int32  \n",
      "dtypes: float64(1), int32(4), int64(2)\n",
      "memory usage: 193.5 KB\n"
     ]
    }
   ],
   "source": [
    "TravelDrop.info()"
   ]
  },
  {
   "cell_type": "markdown",
   "id": "f5d59d93",
   "metadata": {},
   "source": [
    "### Defining X and Y"
   ]
  },
  {
   "cell_type": "code",
   "execution_count": 32,
   "id": "bb5be379",
   "metadata": {},
   "outputs": [],
   "source": [
    "x_columns = [\"NumberOfTrips\", \"NumberOfPersonVisiting\", \"NumberOfFollowups\", \"Age\", \"DurationOfPitch\", \"MonthlyIncome\"]"
   ]
  },
  {
   "cell_type": "code",
   "execution_count": 33,
   "id": "257b2113",
   "metadata": {},
   "outputs": [],
   "source": [
    "y = TravelDrop['ProdTaken']"
   ]
  },
  {
   "cell_type": "markdown",
   "id": "f01822d7",
   "metadata": {},
   "source": [
    "## Creating function to get model statistics"
   ]
  },
  {
   "cell_type": "code",
   "execution_count": 34,
   "id": "fc03f4dd",
   "metadata": {},
   "outputs": [],
   "source": [
    "def get_stats():\n",
    "    x = TravelDrop[x_columns]\n",
    "    results = sm.OLS(y, x).fit()\n",
    "    print(results.summary())"
   ]
  },
  {
   "cell_type": "code",
   "execution_count": 35,
   "id": "bdaf169c",
   "metadata": {},
   "outputs": [
    {
     "name": "stdout",
     "output_type": "stream",
     "text": [
      "                                 OLS Regression Results                                \n",
      "=======================================================================================\n",
      "Dep. Variable:              ProdTaken   R-squared (uncentered):                   0.222\n",
      "Model:                            OLS   Adj. R-squared (uncentered):              0.221\n",
      "Method:                 Least Squares   F-statistic:                              196.4\n",
      "Date:                Mon, 06 Dec 2021   Prob (F-statistic):                   9.74e-221\n",
      "Time:                        19:02:46   Log-Likelihood:                         -1943.8\n",
      "No. Observations:                4128   AIC:                                      3900.\n",
      "Df Residuals:                    4122   BIC:                                      3938.\n",
      "Df Model:                           6                                                  \n",
      "Covariance Type:            nonrobust                                                  \n",
      "==========================================================================================\n",
      "                             coef    std err          t      P>|t|      [0.025      0.975]\n",
      "------------------------------------------------------------------------------------------\n",
      "NumberOfTrips              0.0082      0.003      2.431      0.015       0.002       0.015\n",
      "NumberOfPersonVisiting     0.0062      0.008      0.733      0.463      -0.010       0.023\n",
      "NumberOfFollowups          0.0678      0.006     11.126      0.000       0.056       0.080\n",
      "Age                       -0.0027      0.001     -3.925      0.000      -0.004      -0.001\n",
      "DurationOfPitch            0.0053      0.001      7.535      0.000       0.004       0.007\n",
      "MonthlyIncome          -4.083e-06   1.39e-06     -2.942      0.003    -6.8e-06   -1.36e-06\n",
      "==============================================================================\n",
      "Omnibus:                      831.389   Durbin-Watson:                   1.714\n",
      "Prob(Omnibus):                  0.000   Jarque-Bera (JB):             1436.266\n",
      "Skew:                           1.433   Prob(JB):                         0.00\n",
      "Kurtosis:                       3.372   Cond. No.                     3.58e+04\n",
      "==============================================================================\n",
      "\n",
      "Notes:\n",
      "[1] R² is computed without centering (uncentered) since the model does not contain a constant.\n",
      "[2] Standard Errors assume that the covariance matrix of the errors is correctly specified.\n",
      "[3] The condition number is large, 3.58e+04. This might indicate that there are\n",
      "strong multicollinearity or other numerical problems.\n"
     ]
    }
   ],
   "source": [
    "get_stats()"
   ]
  },
  {
   "cell_type": "markdown",
   "id": "e0e26fea",
   "metadata": {},
   "source": [
    "NumberOfPersonVisiting has really high p-value. We are dropping this variable."
   ]
  },
  {
   "cell_type": "markdown",
   "id": "54a2a730",
   "metadata": {},
   "source": [
    "## Remove Monthly Income"
   ]
  },
  {
   "cell_type": "code",
   "execution_count": 36,
   "id": "a39ccb22",
   "metadata": {},
   "outputs": [],
   "source": [
    "x_columns.remove(\"NumberOfPersonVisiting\")"
   ]
  },
  {
   "cell_type": "markdown",
   "id": "953e3385",
   "metadata": {},
   "source": [
    "## Rerun test without MonthlyIncome"
   ]
  },
  {
   "cell_type": "code",
   "execution_count": 37,
   "id": "5343cea2",
   "metadata": {},
   "outputs": [
    {
     "name": "stdout",
     "output_type": "stream",
     "text": [
      "                                 OLS Regression Results                                \n",
      "=======================================================================================\n",
      "Dep. Variable:              ProdTaken   R-squared (uncentered):                   0.222\n",
      "Model:                            OLS   Adj. R-squared (uncentered):              0.221\n",
      "Method:                 Least Squares   F-statistic:                              235.6\n",
      "Date:                Mon, 06 Dec 2021   Prob (F-statistic):                   7.89e-222\n",
      "Time:                        19:03:15   Log-Likelihood:                         -1944.1\n",
      "No. Observations:                4128   AIC:                                      3898.\n",
      "Df Residuals:                    4123   BIC:                                      3930.\n",
      "Df Model:                           5                                                  \n",
      "Covariance Type:            nonrobust                                                  \n",
      "=====================================================================================\n",
      "                        coef    std err          t      P>|t|      [0.025      0.975]\n",
      "-------------------------------------------------------------------------------------\n",
      "NumberOfTrips         0.0086      0.003      2.595      0.009       0.002       0.015\n",
      "NumberOfFollowups     0.0698      0.005     12.844      0.000       0.059       0.080\n",
      "Age                  -0.0027      0.001     -3.897      0.000      -0.004      -0.001\n",
      "DurationOfPitch       0.0054      0.001      7.758      0.000       0.004       0.007\n",
      "MonthlyIncome     -3.781e-06   1.33e-06     -2.853      0.004   -6.38e-06   -1.18e-06\n",
      "==============================================================================\n",
      "Omnibus:                      831.010   Durbin-Watson:                   1.716\n",
      "Prob(Omnibus):                  0.000   Jarque-Bera (JB):             1435.170\n",
      "Skew:                           1.432   Prob(JB):                         0.00\n",
      "Kurtosis:                       3.373   Cond. No.                     2.15e+04\n",
      "==============================================================================\n",
      "\n",
      "Notes:\n",
      "[1] R² is computed without centering (uncentered) since the model does not contain a constant.\n",
      "[2] Standard Errors assume that the covariance matrix of the errors is correctly specified.\n",
      "[3] The condition number is large, 2.15e+04. This might indicate that there are\n",
      "strong multicollinearity or other numerical problems.\n"
     ]
    }
   ],
   "source": [
    "def get_stats():\n",
    "    x = TravelDrop[x_columns]\n",
    "    results = sm.OLS(y, x).fit()\n",
    "    print(results.summary())\n",
    "get_stats()"
   ]
  },
  {
   "cell_type": "markdown",
   "id": "153f8de7",
   "metadata": {},
   "source": [
    "All of the remaining p-values are really low.  we are going to conclude that these variables are highly correlated with ProdTaken"
   ]
  },
  {
   "cell_type": "markdown",
   "id": "1163d4f6",
   "metadata": {},
   "source": [
    "### Exam means of variable "
   ]
  },
  {
   "cell_type": "code",
   "execution_count": 38,
   "id": "171d98b8",
   "metadata": {},
   "outputs": [
    {
     "name": "stderr",
     "output_type": "stream",
     "text": [
      "<ipython-input-38-fc93c3a8b193>:1: FutureWarning: Indexing with multiple keys (implicitly converted to a tuple of keys) will be deprecated, use a list instead.\n",
      "  TravelDrop.groupby('ProdTaken')['NumberOfTrips', 'NumberOfFollowups', 'Age', 'DurationOfPitch', 'MonthlyIncome'].mean()\n"
     ]
    },
    {
     "data": {
      "text/html": [
       "<div>\n",
       "<style scoped>\n",
       "    .dataframe tbody tr th:only-of-type {\n",
       "        vertical-align: middle;\n",
       "    }\n",
       "\n",
       "    .dataframe tbody tr th {\n",
       "        vertical-align: top;\n",
       "    }\n",
       "\n",
       "    .dataframe thead th {\n",
       "        text-align: right;\n",
       "    }\n",
       "</style>\n",
       "<table border=\"1\" class=\"dataframe\">\n",
       "  <thead>\n",
       "    <tr style=\"text-align: right;\">\n",
       "      <th></th>\n",
       "      <th>NumberOfTrips</th>\n",
       "      <th>NumberOfFollowups</th>\n",
       "      <th>Age</th>\n",
       "      <th>DurationOfPitch</th>\n",
       "      <th>MonthlyIncome</th>\n",
       "    </tr>\n",
       "    <tr>\n",
       "      <th>ProdTaken</th>\n",
       "      <th></th>\n",
       "      <th></th>\n",
       "      <th></th>\n",
       "      <th></th>\n",
       "      <th></th>\n",
       "    </tr>\n",
       "  </thead>\n",
       "  <tbody>\n",
       "    <tr>\n",
       "      <th>0</th>\n",
       "      <td>3.281297</td>\n",
       "      <td>3.686881</td>\n",
       "      <td>37.927049</td>\n",
       "      <td>15.247073</td>\n",
       "      <td>23472.894626</td>\n",
       "    </tr>\n",
       "    <tr>\n",
       "      <th>1</th>\n",
       "      <td>3.353827</td>\n",
       "      <td>3.969887</td>\n",
       "      <td>34.326223</td>\n",
       "      <td>16.996236</td>\n",
       "      <td>21947.914680</td>\n",
       "    </tr>\n",
       "  </tbody>\n",
       "</table>\n",
       "</div>"
      ],
      "text/plain": [
       "           NumberOfTrips  NumberOfFollowups        Age  DurationOfPitch  \\\n",
       "ProdTaken                                                                 \n",
       "0               3.281297           3.686881  37.927049        15.247073   \n",
       "1               3.353827           3.969887  34.326223        16.996236   \n",
       "\n",
       "           MonthlyIncome  \n",
       "ProdTaken                 \n",
       "0           23472.894626  \n",
       "1           21947.914680  "
      ]
     },
     "execution_count": 38,
     "metadata": {},
     "output_type": "execute_result"
    }
   ],
   "source": [
    "TravelDrop.groupby('ProdTaken')['NumberOfTrips', 'NumberOfFollowups', 'Age', 'DurationOfPitch', 'MonthlyIncome'].mean()"
   ]
  },
  {
   "cell_type": "code",
   "execution_count": null,
   "id": "7ca53212",
   "metadata": {},
   "outputs": [],
   "source": []
  }
 ],
 "metadata": {
  "kernelspec": {
   "display_name": "Python 3",
   "language": "python",
   "name": "python3"
  },
  "language_info": {
   "codemirror_mode": {
    "name": "ipython",
    "version": 3
   },
   "file_extension": ".py",
   "mimetype": "text/x-python",
   "name": "python",
   "nbconvert_exporter": "python",
   "pygments_lexer": "ipython3",
   "version": "3.8.8"
  }
 },
 "nbformat": 4,
 "nbformat_minor": 5
}
