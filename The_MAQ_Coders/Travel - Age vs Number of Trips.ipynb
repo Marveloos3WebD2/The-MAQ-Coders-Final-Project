{
 "cells": [
  {
   "cell_type": "markdown",
   "id": "75062cab",
   "metadata": {},
   "source": [
    "## Import packages"
   ]
  },
  {
   "cell_type": "code",
   "execution_count": 1,
   "id": "3cf84350",
   "metadata": {},
   "outputs": [],
   "source": [
    "import pandas as pd\n",
    "import matplotlib.pyplot as plt\n",
    "import seaborn as sns\n",
    "import numpy as np\n",
    "from scipy.stats import norm\n",
    "from scipy import stats\n",
    "from scipy.stats import ttest_ind\n",
    "from sklearn.ensemble import RandomForestClassifier\n",
    "from sklearn.preprocessing import LabelEncoder"
   ]
  },
  {
   "cell_type": "markdown",
   "id": "95cc1203",
   "metadata": {},
   "source": [
    "## Import Data"
   ]
  },
  {
   "cell_type": "code",
   "execution_count": 2,
   "id": "21c13f98",
   "metadata": {},
   "outputs": [],
   "source": [
    "Travel = pd.read_csv('C:/Users/Quy/Documents/Travel.csv')"
   ]
  },
  {
   "cell_type": "markdown",
   "id": "7eaab82b",
   "metadata": {},
   "source": [
    "## Data Wrangling "
   ]
  },
  {
   "cell_type": "code",
   "execution_count": 3,
   "id": "3ac383ee",
   "metadata": {},
   "outputs": [],
   "source": [
    "TravelDrop = Travel.dropna(axis=0, how='any', thresh=None, subset=None, inplace=False)"
   ]
  },
  {
   "cell_type": "code",
   "execution_count": 4,
   "id": "42d1ab50",
   "metadata": {},
   "outputs": [
    {
     "data": {
      "text/html": [
       "<div>\n",
       "<style scoped>\n",
       "    .dataframe tbody tr th:only-of-type {\n",
       "        vertical-align: middle;\n",
       "    }\n",
       "\n",
       "    .dataframe tbody tr th {\n",
       "        vertical-align: top;\n",
       "    }\n",
       "\n",
       "    .dataframe thead th {\n",
       "        text-align: right;\n",
       "    }\n",
       "</style>\n",
       "<table border=\"1\" class=\"dataframe\">\n",
       "  <thead>\n",
       "    <tr style=\"text-align: right;\">\n",
       "      <th></th>\n",
       "      <th>CustomerID</th>\n",
       "      <th>ProdTaken</th>\n",
       "      <th>Age</th>\n",
       "      <th>CityTier</th>\n",
       "      <th>DurationOfPitch</th>\n",
       "      <th>NumberOfPersonVisiting</th>\n",
       "      <th>NumberOfFollowups</th>\n",
       "      <th>PreferredPropertyStar</th>\n",
       "      <th>NumberOfTrips</th>\n",
       "      <th>Passport</th>\n",
       "      <th>PitchSatisfactionScore</th>\n",
       "      <th>OwnCar</th>\n",
       "      <th>NumberOfChildrenVisiting</th>\n",
       "      <th>MonthlyIncome</th>\n",
       "    </tr>\n",
       "  </thead>\n",
       "  <tbody>\n",
       "    <tr>\n",
       "      <th>count</th>\n",
       "      <td>4128.000000</td>\n",
       "      <td>4128.000000</td>\n",
       "      <td>4128.000000</td>\n",
       "      <td>4128.000000</td>\n",
       "      <td>4128.000000</td>\n",
       "      <td>4128.000000</td>\n",
       "      <td>4128.000000</td>\n",
       "      <td>4128.000000</td>\n",
       "      <td>4128.0000</td>\n",
       "      <td>4128.000000</td>\n",
       "      <td>4128.000000</td>\n",
       "      <td>4128.000000</td>\n",
       "      <td>4128.000000</td>\n",
       "      <td>4128.000000</td>\n",
       "    </tr>\n",
       "    <tr>\n",
       "      <th>mean</th>\n",
       "      <td>202527.763808</td>\n",
       "      <td>0.193072</td>\n",
       "      <td>37.231831</td>\n",
       "      <td>1.663275</td>\n",
       "      <td>15.584787</td>\n",
       "      <td>2.949370</td>\n",
       "      <td>3.741521</td>\n",
       "      <td>3.578488</td>\n",
       "      <td>3.2953</td>\n",
       "      <td>0.295300</td>\n",
       "      <td>3.060804</td>\n",
       "      <td>0.612161</td>\n",
       "      <td>1.223595</td>\n",
       "      <td>23178.464147</td>\n",
       "    </tr>\n",
       "    <tr>\n",
       "      <th>std</th>\n",
       "      <td>1409.439133</td>\n",
       "      <td>0.394757</td>\n",
       "      <td>9.174521</td>\n",
       "      <td>0.920640</td>\n",
       "      <td>8.398142</td>\n",
       "      <td>0.718818</td>\n",
       "      <td>1.006786</td>\n",
       "      <td>0.795031</td>\n",
       "      <td>1.8563</td>\n",
       "      <td>0.456233</td>\n",
       "      <td>1.363064</td>\n",
       "      <td>0.487317</td>\n",
       "      <td>0.852685</td>\n",
       "      <td>4506.614622</td>\n",
       "    </tr>\n",
       "    <tr>\n",
       "      <th>min</th>\n",
       "      <td>200000.000000</td>\n",
       "      <td>0.000000</td>\n",
       "      <td>18.000000</td>\n",
       "      <td>1.000000</td>\n",
       "      <td>5.000000</td>\n",
       "      <td>1.000000</td>\n",
       "      <td>1.000000</td>\n",
       "      <td>3.000000</td>\n",
       "      <td>1.0000</td>\n",
       "      <td>0.000000</td>\n",
       "      <td>1.000000</td>\n",
       "      <td>0.000000</td>\n",
       "      <td>0.000000</td>\n",
       "      <td>1000.000000</td>\n",
       "    </tr>\n",
       "    <tr>\n",
       "      <th>25%</th>\n",
       "      <td>201320.750000</td>\n",
       "      <td>0.000000</td>\n",
       "      <td>31.000000</td>\n",
       "      <td>1.000000</td>\n",
       "      <td>9.000000</td>\n",
       "      <td>2.000000</td>\n",
       "      <td>3.000000</td>\n",
       "      <td>3.000000</td>\n",
       "      <td>2.0000</td>\n",
       "      <td>0.000000</td>\n",
       "      <td>2.000000</td>\n",
       "      <td>0.000000</td>\n",
       "      <td>1.000000</td>\n",
       "      <td>20751.000000</td>\n",
       "    </tr>\n",
       "    <tr>\n",
       "      <th>50%</th>\n",
       "      <td>202603.500000</td>\n",
       "      <td>0.000000</td>\n",
       "      <td>36.000000</td>\n",
       "      <td>1.000000</td>\n",
       "      <td>14.000000</td>\n",
       "      <td>3.000000</td>\n",
       "      <td>4.000000</td>\n",
       "      <td>3.000000</td>\n",
       "      <td>3.0000</td>\n",
       "      <td>0.000000</td>\n",
       "      <td>3.000000</td>\n",
       "      <td>1.000000</td>\n",
       "      <td>1.000000</td>\n",
       "      <td>22418.000000</td>\n",
       "    </tr>\n",
       "    <tr>\n",
       "      <th>75%</th>\n",
       "      <td>203748.250000</td>\n",
       "      <td>0.000000</td>\n",
       "      <td>43.000000</td>\n",
       "      <td>3.000000</td>\n",
       "      <td>20.000000</td>\n",
       "      <td>3.000000</td>\n",
       "      <td>4.000000</td>\n",
       "      <td>4.000000</td>\n",
       "      <td>4.0000</td>\n",
       "      <td>1.000000</td>\n",
       "      <td>4.000000</td>\n",
       "      <td>1.000000</td>\n",
       "      <td>2.000000</td>\n",
       "      <td>25301.000000</td>\n",
       "    </tr>\n",
       "    <tr>\n",
       "      <th>max</th>\n",
       "      <td>204887.000000</td>\n",
       "      <td>1.000000</td>\n",
       "      <td>61.000000</td>\n",
       "      <td>3.000000</td>\n",
       "      <td>127.000000</td>\n",
       "      <td>5.000000</td>\n",
       "      <td>6.000000</td>\n",
       "      <td>5.000000</td>\n",
       "      <td>22.0000</td>\n",
       "      <td>1.000000</td>\n",
       "      <td>5.000000</td>\n",
       "      <td>1.000000</td>\n",
       "      <td>3.000000</td>\n",
       "      <td>98678.000000</td>\n",
       "    </tr>\n",
       "  </tbody>\n",
       "</table>\n",
       "</div>"
      ],
      "text/plain": [
       "          CustomerID    ProdTaken          Age     CityTier  DurationOfPitch  \\\n",
       "count    4128.000000  4128.000000  4128.000000  4128.000000      4128.000000   \n",
       "mean   202527.763808     0.193072    37.231831     1.663275        15.584787   \n",
       "std      1409.439133     0.394757     9.174521     0.920640         8.398142   \n",
       "min    200000.000000     0.000000    18.000000     1.000000         5.000000   \n",
       "25%    201320.750000     0.000000    31.000000     1.000000         9.000000   \n",
       "50%    202603.500000     0.000000    36.000000     1.000000        14.000000   \n",
       "75%    203748.250000     0.000000    43.000000     3.000000        20.000000   \n",
       "max    204887.000000     1.000000    61.000000     3.000000       127.000000   \n",
       "\n",
       "       NumberOfPersonVisiting  NumberOfFollowups  PreferredPropertyStar  \\\n",
       "count             4128.000000        4128.000000            4128.000000   \n",
       "mean                 2.949370           3.741521               3.578488   \n",
       "std                  0.718818           1.006786               0.795031   \n",
       "min                  1.000000           1.000000               3.000000   \n",
       "25%                  2.000000           3.000000               3.000000   \n",
       "50%                  3.000000           4.000000               3.000000   \n",
       "75%                  3.000000           4.000000               4.000000   \n",
       "max                  5.000000           6.000000               5.000000   \n",
       "\n",
       "       NumberOfTrips     Passport  PitchSatisfactionScore       OwnCar  \\\n",
       "count      4128.0000  4128.000000             4128.000000  4128.000000   \n",
       "mean          3.2953     0.295300                3.060804     0.612161   \n",
       "std           1.8563     0.456233                1.363064     0.487317   \n",
       "min           1.0000     0.000000                1.000000     0.000000   \n",
       "25%           2.0000     0.000000                2.000000     0.000000   \n",
       "50%           3.0000     0.000000                3.000000     1.000000   \n",
       "75%           4.0000     1.000000                4.000000     1.000000   \n",
       "max          22.0000     1.000000                5.000000     1.000000   \n",
       "\n",
       "       NumberOfChildrenVisiting  MonthlyIncome  \n",
       "count               4128.000000    4128.000000  \n",
       "mean                   1.223595   23178.464147  \n",
       "std                    0.852685    4506.614622  \n",
       "min                    0.000000    1000.000000  \n",
       "25%                    1.000000   20751.000000  \n",
       "50%                    1.000000   22418.000000  \n",
       "75%                    2.000000   25301.000000  \n",
       "max                    3.000000   98678.000000  "
      ]
     },
     "execution_count": 4,
     "metadata": {},
     "output_type": "execute_result"
    }
   ],
   "source": [
    "TravelDrop.describe()\n"
   ]
  },
  {
   "cell_type": "code",
   "execution_count": 5,
   "id": "4f68c9ea",
   "metadata": {},
   "outputs": [
    {
     "data": {
      "text/plain": [
       "CustomerID                    int64\n",
       "ProdTaken                     int64\n",
       "Age                         float64\n",
       "TypeofContact                object\n",
       "CityTier                      int64\n",
       "DurationOfPitch             float64\n",
       "Occupation                   object\n",
       "Gender                       object\n",
       "NumberOfPersonVisiting        int64\n",
       "NumberOfFollowups           float64\n",
       "ProductPitched               object\n",
       "PreferredPropertyStar       float64\n",
       "MaritalStatus                object\n",
       "NumberOfTrips               float64\n",
       "Passport                      int64\n",
       "PitchSatisfactionScore        int64\n",
       "OwnCar                        int64\n",
       "NumberOfChildrenVisiting    float64\n",
       "Designation                  object\n",
       "MonthlyIncome               float64\n",
       "dtype: object"
      ]
     },
     "execution_count": 5,
     "metadata": {},
     "output_type": "execute_result"
    }
   ],
   "source": [
    "TravelDrop.dtypes"
   ]
  },
  {
   "cell_type": "code",
   "execution_count": 6,
   "id": "648163e6",
   "metadata": {},
   "outputs": [
    {
     "data": {
      "text/plain": [
       "2.0     1267\n",
       "3.0      993\n",
       "1.0      467\n",
       "4.0      422\n",
       "5.0      396\n",
       "6.0      283\n",
       "7.0      193\n",
       "8.0      103\n",
       "20.0       1\n",
       "19.0       1\n",
       "22.0       1\n",
       "21.0       1\n",
       "Name: NumberOfTrips, dtype: int64"
      ]
     },
     "execution_count": 6,
     "metadata": {},
     "output_type": "execute_result"
    }
   ],
   "source": [
    "TravelDrop['NumberOfTrips'].value_counts()"
   ]
  },
  {
   "cell_type": "markdown",
   "id": "e140f38d",
   "metadata": {},
   "source": [
    "Majority of people take 2 to 3 trips. rarely anyone take 19 trips and more."
   ]
  },
  {
   "cell_type": "code",
   "execution_count": 7,
   "id": "73d23a1c",
   "metadata": {},
   "outputs": [
    {
     "data": {
      "text/plain": [
       "<AxesSubplot:>"
      ]
     },
     "execution_count": 7,
     "metadata": {},
     "output_type": "execute_result"
    },
    {
     "data": {
      "image/png": "[encoded data removed]",
      "text/plain": [
       "<Figure size 432x288 with 1 Axes>"
      ]
     },
     "metadata": {
      "needs_background": "light"
     },
     "output_type": "display_data"
    }
   ],
   "source": [
    "TravelDrop['NumberOfTrips'].hist()"
   ]
  },
  {
   "cell_type": "code",
   "execution_count": 8,
   "id": "bbecc26e",
   "metadata": {},
   "outputs": [
    {
     "data": {
      "text/plain": [
       "3    2078\n",
       "2    1089\n",
       "4     930\n",
       "1      28\n",
       "5       3\n",
       "Name: NumberOfPersonVisiting, dtype: int64"
      ]
     },
     "execution_count": 8,
     "metadata": {},
     "output_type": "execute_result"
    }
   ],
   "source": [
    "TravelDrop['NumberOfPersonVisiting'].value_counts()"
   ]
  },
  {
   "cell_type": "markdown",
   "id": "59d8dd9a",
   "metadata": {},
   "source": [
    "Most groups travel with 2 to 3 persons. very few customers travel in 5 and a small portion travel alone."
   ]
  },
  {
   "cell_type": "code",
   "execution_count": 9,
   "id": "281979ad",
   "metadata": {},
   "outputs": [
    {
     "data": {
      "text/plain": [
       "<AxesSubplot:>"
      ]
     },
     "execution_count": 9,
     "metadata": {},
     "output_type": "execute_result"
    },
    {
     "data": {
      "image/png": "[encoded data removed]",
      "text/plain": [
       "<Figure size 432x288 with 1 Axes>"
      ]
     },
     "metadata": {
      "needs_background": "light"
     },
     "output_type": "display_data"
    }
   ],
   "source": [
    "TravelDrop['NumberOfPersonVisiting'].hist()"
   ]
  },
  {
   "cell_type": "code",
   "execution_count": 10,
   "id": "16b1a4d4",
   "metadata": {},
   "outputs": [
    {
     "data": {
      "text/plain": [
       "<AxesSubplot:>"
      ]
     },
     "execution_count": 10,
     "metadata": {},
     "output_type": "execute_result"
    },
    {
     "data": {
      "image/png": "[encoded data removed]",
      "text/plain": [
       "<Figure size 432x288 with 1 Axes>"
      ]
     },
     "metadata": {
      "needs_background": "light"
     },
     "output_type": "display_data"
    }
   ],
   "source": [
    "TravelDrop['Age'].hist()"
   ]
  },
  {
   "cell_type": "code",
   "execution_count": 11,
   "id": "bf194b7f",
   "metadata": {},
   "outputs": [
    {
     "data": {
      "text/plain": [
       "36.0    215\n",
       "35.0    214\n",
       "31.0    188\n",
       "30.0    188\n",
       "34.0    187\n",
       "33.0    178\n",
       "32.0    177\n",
       "37.0    177\n",
       "38.0    171\n",
       "29.0    164\n",
       "39.0    145\n",
       "41.0    137\n",
       "28.0    135\n",
       "27.0    125\n",
       "40.0    124\n",
       "42.0    118\n",
       "43.0    107\n",
       "46.0    104\n",
       "45.0     96\n",
       "26.0     91\n",
       "44.0     89\n",
       "50.0     74\n",
       "25.0     63\n",
       "47.0     63\n",
       "51.0     60\n",
       "49.0     57\n",
       "48.0     55\n",
       "52.0     55\n",
       "53.0     52\n",
       "55.0     52\n",
       "54.0     51\n",
       "23.0     46\n",
       "24.0     46\n",
       "22.0     42\n",
       "59.0     40\n",
       "21.0     39\n",
       "20.0     36\n",
       "56.0     34\n",
       "58.0     30\n",
       "19.0     28\n",
       "60.0     27\n",
       "57.0     25\n",
       "18.0     14\n",
       "61.0      9\n",
       "Name: Age, dtype: int64"
      ]
     },
     "execution_count": 11,
     "metadata": {},
     "output_type": "execute_result"
    }
   ],
   "source": [
    "TravelDrop['Age'].value_counts()"
   ]
  },
  {
   "cell_type": "markdown",
   "id": "12bc835a",
   "metadata": {},
   "source": [
    "Transforming Age into Age Group\n",
    " 0:19  Teen\n",
    "20:29  Young Adult\n",
    "30:39  Adult\n",
    "40:49  Middle Age\n",
    "50:65  Senior"
   ]
  },
  {
   "cell_type": "markdown",
   "id": "613d37e6",
   "metadata": {},
   "source": [
    "### Add Age.Group Column"
   ]
  },
  {
   "cell_type": "code",
   "execution_count": 12,
   "id": "27bb98a6",
   "metadata": {},
   "outputs": [],
   "source": [
    "bins = [10, 19, 30, 40, 50, 60, 70, 100]"
   ]
  },
  {
   "cell_type": "code",
   "execution_count": 13,
   "id": "fa526274",
   "metadata": {},
   "outputs": [],
   "source": [
    "Labels = ['Under 19', '20-29', '30-39', '40-49', '50-59', '60-69', '70+']"
   ]
  },
  {
   "cell_type": "code",
   "execution_count": 14,
   "id": "01703fa9",
   "metadata": {},
   "outputs": [
    {
     "name": "stderr",
     "output_type": "stream",
     "text": [
      "<ipython-input-14-5d67e0746a6e>:1: SettingWithCopyWarning: \n",
      "A value is trying to be set on a copy of a slice from a DataFrame.\n",
      "Try using .loc[row_indexer,col_indexer] = value instead\n",
      "\n",
      "See the caveats in the documentation: https://pandas.pydata.org/pandas-docs/stable/user_guide/indexing.html#returning-a-view-versus-a-copy\n",
      "  TravelDrop['AgeRange'] = pd.cut(TravelDrop.Age, bins, labels = Labels,include_lowest = True)\n"
     ]
    }
   ],
   "source": [
    "TravelDrop['AgeRange'] = pd.cut(TravelDrop.Age, bins, labels = Labels,include_lowest = True)"
   ]
  },
  {
   "cell_type": "code",
   "execution_count": 15,
   "id": "4e7fcb37",
   "metadata": {},
   "outputs": [
    {
     "data": {
      "text/plain": [
       "30-39       1776\n",
       "20-29        975\n",
       "40-49        900\n",
       "50-59        426\n",
       "Under 19      42\n",
       "60-69          9\n",
       "70+            0\n",
       "Name: AgeRange, dtype: int64"
      ]
     },
     "execution_count": 15,
     "metadata": {},
     "output_type": "execute_result"
    }
   ],
   "source": [
    "TravelDrop['AgeRange'].value_counts()"
   ]
  },
  {
   "cell_type": "markdown",
   "id": "f33a7543",
   "metadata": {},
   "source": [
    "# Independent Chi-Square"
   ]
  },
  {
   "cell_type": "markdown",
   "id": "58ad5f3f",
   "metadata": {},
   "source": [
    "## Test Assumptions and Run the Analysis"
   ]
  },
  {
   "cell_type": "code",
   "execution_count": 16,
   "id": "8bd4a8d8",
   "metadata": {},
   "outputs": [],
   "source": [
    "TravelDrop_crosstab = pd.crosstab(TravelDrop['AgeRange'], TravelDrop['NumberOfTrips'])"
   ]
  },
  {
   "cell_type": "code",
   "execution_count": 17,
   "id": "d566ba74",
   "metadata": {},
   "outputs": [
    {
     "data": {
      "text/html": [
       "<div>\n",
       "<style scoped>\n",
       "    .dataframe tbody tr th:only-of-type {\n",
       "        vertical-align: middle;\n",
       "    }\n",
       "\n",
       "    .dataframe tbody tr th {\n",
       "        vertical-align: top;\n",
       "    }\n",
       "\n",
       "    .dataframe thead th {\n",
       "        text-align: right;\n",
       "    }\n",
       "</style>\n",
       "<table border=\"1\" class=\"dataframe\">\n",
       "  <thead>\n",
       "    <tr style=\"text-align: right;\">\n",
       "      <th>NumberOfTrips</th>\n",
       "      <th>1.0</th>\n",
       "      <th>2.0</th>\n",
       "      <th>3.0</th>\n",
       "      <th>4.0</th>\n",
       "      <th>5.0</th>\n",
       "      <th>6.0</th>\n",
       "      <th>7.0</th>\n",
       "      <th>8.0</th>\n",
       "      <th>19.0</th>\n",
       "      <th>20.0</th>\n",
       "      <th>21.0</th>\n",
       "      <th>22.0</th>\n",
       "    </tr>\n",
       "    <tr>\n",
       "      <th>AgeRange</th>\n",
       "      <th></th>\n",
       "      <th></th>\n",
       "      <th></th>\n",
       "      <th></th>\n",
       "      <th></th>\n",
       "      <th></th>\n",
       "      <th></th>\n",
       "      <th></th>\n",
       "      <th></th>\n",
       "      <th></th>\n",
       "      <th></th>\n",
       "      <th></th>\n",
       "    </tr>\n",
       "  </thead>\n",
       "  <tbody>\n",
       "    <tr>\n",
       "      <th>Under 19</th>\n",
       "      <td>3</td>\n",
       "      <td>29</td>\n",
       "      <td>10</td>\n",
       "      <td>0</td>\n",
       "      <td>0</td>\n",
       "      <td>0</td>\n",
       "      <td>0</td>\n",
       "      <td>0</td>\n",
       "      <td>0</td>\n",
       "      <td>0</td>\n",
       "      <td>0</td>\n",
       "      <td>0</td>\n",
       "    </tr>\n",
       "    <tr>\n",
       "      <th>20-29</th>\n",
       "      <td>99</td>\n",
       "      <td>393</td>\n",
       "      <td>339</td>\n",
       "      <td>34</td>\n",
       "      <td>26</td>\n",
       "      <td>28</td>\n",
       "      <td>35</td>\n",
       "      <td>20</td>\n",
       "      <td>1</td>\n",
       "      <td>0</td>\n",
       "      <td>0</td>\n",
       "      <td>0</td>\n",
       "    </tr>\n",
       "    <tr>\n",
       "      <th>30-39</th>\n",
       "      <td>201</td>\n",
       "      <td>558</td>\n",
       "      <td>425</td>\n",
       "      <td>160</td>\n",
       "      <td>181</td>\n",
       "      <td>126</td>\n",
       "      <td>79</td>\n",
       "      <td>43</td>\n",
       "      <td>0</td>\n",
       "      <td>1</td>\n",
       "      <td>1</td>\n",
       "      <td>1</td>\n",
       "    </tr>\n",
       "    <tr>\n",
       "      <th>40-49</th>\n",
       "      <td>99</td>\n",
       "      <td>206</td>\n",
       "      <td>156</td>\n",
       "      <td>143</td>\n",
       "      <td>121</td>\n",
       "      <td>91</td>\n",
       "      <td>56</td>\n",
       "      <td>28</td>\n",
       "      <td>0</td>\n",
       "      <td>0</td>\n",
       "      <td>0</td>\n",
       "      <td>0</td>\n",
       "    </tr>\n",
       "    <tr>\n",
       "      <th>50-59</th>\n",
       "      <td>65</td>\n",
       "      <td>77</td>\n",
       "      <td>63</td>\n",
       "      <td>85</td>\n",
       "      <td>67</td>\n",
       "      <td>36</td>\n",
       "      <td>21</td>\n",
       "      <td>12</td>\n",
       "      <td>0</td>\n",
       "      <td>0</td>\n",
       "      <td>0</td>\n",
       "      <td>0</td>\n",
       "    </tr>\n",
       "    <tr>\n",
       "      <th>60-69</th>\n",
       "      <td>0</td>\n",
       "      <td>4</td>\n",
       "      <td>0</td>\n",
       "      <td>0</td>\n",
       "      <td>1</td>\n",
       "      <td>2</td>\n",
       "      <td>2</td>\n",
       "      <td>0</td>\n",
       "      <td>0</td>\n",
       "      <td>0</td>\n",
       "      <td>0</td>\n",
       "      <td>0</td>\n",
       "    </tr>\n",
       "  </tbody>\n",
       "</table>\n",
       "</div>"
      ],
      "text/plain": [
       "NumberOfTrips  1.0   2.0   3.0   4.0   5.0   6.0   7.0   8.0   19.0  20.0  \\\n",
       "AgeRange                                                                    \n",
       "Under 19          3    29    10     0     0     0     0     0     0     0   \n",
       "20-29            99   393   339    34    26    28    35    20     1     0   \n",
       "30-39           201   558   425   160   181   126    79    43     0     1   \n",
       "40-49            99   206   156   143   121    91    56    28     0     0   \n",
       "50-59            65    77    63    85    67    36    21    12     0     0   \n",
       "60-69             0     4     0     0     1     2     2     0     0     0   \n",
       "\n",
       "NumberOfTrips  21.0  22.0  \n",
       "AgeRange                   \n",
       "Under 19          0     0  \n",
       "20-29             0     0  \n",
       "30-39             1     1  \n",
       "40-49             0     0  \n",
       "50-59             0     0  \n",
       "60-69             0     0  "
      ]
     },
     "execution_count": 17,
     "metadata": {},
     "output_type": "execute_result"
    }
   ],
   "source": [
    "TravelDrop_crosstab"
   ]
  },
  {
   "cell_type": "markdown",
   "id": "c211fce9",
   "metadata": {},
   "source": [
    "In order to pass the assumption, we have to drop AgeRange Under 19 and 60-69 as well as trip above 8"
   ]
  },
  {
   "cell_type": "markdown",
   "id": "3ae661f5",
   "metadata": {},
   "source": [
    "Drop rows with Age under 19 and over 59"
   ]
  },
  {
   "cell_type": "code",
   "execution_count": 18,
   "id": "a34b5daa",
   "metadata": {},
   "outputs": [
    {
     "name": "stderr",
     "output_type": "stream",
     "text": [
      "C:\\Users\\Quy\\anaconda3\\lib\\site-packages\\pandas\\core\\frame.py:4308: SettingWithCopyWarning: \n",
      "A value is trying to be set on a copy of a slice from a DataFrame\n",
      "\n",
      "See the caveats in the documentation: https://pandas.pydata.org/pandas-docs/stable/user_guide/indexing.html#returning-a-view-versus-a-copy\n",
      "  return super().drop(\n"
     ]
    }
   ],
   "source": [
    "TravelDrop.drop(TravelDrop[TravelDrop['Age'] < 20].index, inplace=True)"
   ]
  },
  {
   "cell_type": "code",
   "execution_count": 19,
   "id": "68f66920",
   "metadata": {},
   "outputs": [
    {
     "name": "stderr",
     "output_type": "stream",
     "text": [
      "C:\\Users\\Quy\\anaconda3\\lib\\site-packages\\pandas\\core\\frame.py:4308: SettingWithCopyWarning: \n",
      "A value is trying to be set on a copy of a slice from a DataFrame\n",
      "\n",
      "See the caveats in the documentation: https://pandas.pydata.org/pandas-docs/stable/user_guide/indexing.html#returning-a-view-versus-a-copy\n",
      "  return super().drop(\n"
     ]
    }
   ],
   "source": [
    "TravelDrop.drop(TravelDrop[TravelDrop['Age'] > 59].index, inplace=True)"
   ]
  },
  {
   "cell_type": "markdown",
   "id": "d4a9263d",
   "metadata": {},
   "source": [
    "Drop rows with NumberofTrips higher than 8"
   ]
  },
  {
   "cell_type": "code",
   "execution_count": 20,
   "id": "8006b7e3",
   "metadata": {},
   "outputs": [
    {
     "name": "stderr",
     "output_type": "stream",
     "text": [
      "C:\\Users\\Quy\\anaconda3\\lib\\site-packages\\pandas\\core\\frame.py:4308: SettingWithCopyWarning: \n",
      "A value is trying to be set on a copy of a slice from a DataFrame\n",
      "\n",
      "See the caveats in the documentation: https://pandas.pydata.org/pandas-docs/stable/user_guide/indexing.html#returning-a-view-versus-a-copy\n",
      "  return super().drop(\n"
     ]
    }
   ],
   "source": [
    "TravelDrop.drop(TravelDrop[TravelDrop['NumberOfTrips'] > 8].index, inplace=True)"
   ]
  },
  {
   "cell_type": "code",
   "execution_count": 21,
   "id": "ccbf3a16",
   "metadata": {},
   "outputs": [
    {
     "data": {
      "text/plain": [
       "30-39       1773\n",
       "20-29        974\n",
       "40-49        900\n",
       "50-59        399\n",
       "Under 19       0\n",
       "60-69          0\n",
       "70+            0\n",
       "Name: AgeRange, dtype: int64"
      ]
     },
     "execution_count": 21,
     "metadata": {},
     "output_type": "execute_result"
    }
   ],
   "source": [
    "TravelDrop['AgeRange'].value_counts()"
   ]
  },
  {
   "cell_type": "code",
   "execution_count": 22,
   "id": "62ea3b0c",
   "metadata": {},
   "outputs": [],
   "source": [
    "TravelDrop_crosstab = pd.crosstab(TravelDrop['AgeRange'], TravelDrop['NumberOfTrips'])"
   ]
  },
  {
   "cell_type": "code",
   "execution_count": 23,
   "id": "0f0a1808",
   "metadata": {},
   "outputs": [
    {
     "data": {
      "text/html": [
       "<div>\n",
       "<style scoped>\n",
       "    .dataframe tbody tr th:only-of-type {\n",
       "        vertical-align: middle;\n",
       "    }\n",
       "\n",
       "    .dataframe tbody tr th {\n",
       "        vertical-align: top;\n",
       "    }\n",
       "\n",
       "    .dataframe thead th {\n",
       "        text-align: right;\n",
       "    }\n",
       "</style>\n",
       "<table border=\"1\" class=\"dataframe\">\n",
       "  <thead>\n",
       "    <tr style=\"text-align: right;\">\n",
       "      <th>NumberOfTrips</th>\n",
       "      <th>1.0</th>\n",
       "      <th>2.0</th>\n",
       "      <th>3.0</th>\n",
       "      <th>4.0</th>\n",
       "      <th>5.0</th>\n",
       "      <th>6.0</th>\n",
       "      <th>7.0</th>\n",
       "      <th>8.0</th>\n",
       "    </tr>\n",
       "    <tr>\n",
       "      <th>AgeRange</th>\n",
       "      <th></th>\n",
       "      <th></th>\n",
       "      <th></th>\n",
       "      <th></th>\n",
       "      <th></th>\n",
       "      <th></th>\n",
       "      <th></th>\n",
       "      <th></th>\n",
       "    </tr>\n",
       "  </thead>\n",
       "  <tbody>\n",
       "    <tr>\n",
       "      <th>20-29</th>\n",
       "      <td>99</td>\n",
       "      <td>393</td>\n",
       "      <td>339</td>\n",
       "      <td>34</td>\n",
       "      <td>26</td>\n",
       "      <td>28</td>\n",
       "      <td>35</td>\n",
       "      <td>20</td>\n",
       "    </tr>\n",
       "    <tr>\n",
       "      <th>30-39</th>\n",
       "      <td>201</td>\n",
       "      <td>558</td>\n",
       "      <td>425</td>\n",
       "      <td>160</td>\n",
       "      <td>181</td>\n",
       "      <td>126</td>\n",
       "      <td>79</td>\n",
       "      <td>43</td>\n",
       "    </tr>\n",
       "    <tr>\n",
       "      <th>40-49</th>\n",
       "      <td>99</td>\n",
       "      <td>206</td>\n",
       "      <td>156</td>\n",
       "      <td>143</td>\n",
       "      <td>121</td>\n",
       "      <td>91</td>\n",
       "      <td>56</td>\n",
       "      <td>28</td>\n",
       "    </tr>\n",
       "    <tr>\n",
       "      <th>50-59</th>\n",
       "      <td>61</td>\n",
       "      <td>70</td>\n",
       "      <td>63</td>\n",
       "      <td>84</td>\n",
       "      <td>59</td>\n",
       "      <td>32</td>\n",
       "      <td>19</td>\n",
       "      <td>11</td>\n",
       "    </tr>\n",
       "  </tbody>\n",
       "</table>\n",
       "</div>"
      ],
      "text/plain": [
       "NumberOfTrips  1.0  2.0  3.0  4.0  5.0  6.0  7.0  8.0\n",
       "AgeRange                                             \n",
       "20-29           99  393  339   34   26   28   35   20\n",
       "30-39          201  558  425  160  181  126   79   43\n",
       "40-49           99  206  156  143  121   91   56   28\n",
       "50-59           61   70   63   84   59   32   19   11"
      ]
     },
     "execution_count": 23,
     "metadata": {},
     "output_type": "execute_result"
    }
   ],
   "source": [
    "TravelDrop_crosstab"
   ]
  },
  {
   "cell_type": "markdown",
   "id": "f1dc3b25",
   "metadata": {},
   "source": [
    "While we exam only visitors from 20 to 59 years old who make under 8 trips, our data pass the assumptions since the expected frequencies for each cell is higher than 5 entries per cell."
   ]
  },
  {
   "cell_type": "markdown",
   "id": "99bf6b2e",
   "metadata": {},
   "source": [
    "## Running the Independent Chi-Square"
   ]
  },
  {
   "cell_type": "code",
   "execution_count": 24,
   "id": "c2f7fa12",
   "metadata": {},
   "outputs": [
    {
     "data": {
      "text/plain": [
       "(390.99905341448664,\n",
       " 6.74059031970561e-70,\n",
       " 21,\n",
       " array([[110.73652991, 295.37765695, 236.63914978, 101.34799802,\n",
       "          93.16312407,  66.68264953,  45.4982699 ,  24.55462185],\n",
       "        [201.57686604, 537.68437963, 430.76099852, 184.48665348,\n",
       "         169.58749382, 121.3843302 ,  82.82179931,  44.69747899],\n",
       "        [102.32328225, 272.93623332, 218.66040534,  93.64804745,\n",
       "          86.08502224,  61.61641127,  42.04152249,  22.68907563],\n",
       "        [ 45.3633218 , 121.0017301 ,  96.93944637,  41.51730104,\n",
       "          38.16435986,  27.316609  ,  18.6384083 ,  10.05882353]]))"
      ]
     },
     "execution_count": 24,
     "metadata": {},
     "output_type": "execute_result"
    }
   ],
   "source": [
    "stats.chi2_contingency(TravelDrop_crosstab)"
   ]
  },
  {
   "cell_type": "markdown",
   "id": "1c3988ae",
   "metadata": {},
   "source": [
    "The first value is your Chi-Square statistic, which is 390.99905341448664.\n",
    "The second value is associated p value, which is 6.74059031970561e-70.\n",
    "Looking at these values, There is a significant relationship between NumberOfTrips and AgeRange. Neither lipstick nor lip gloss is pricier or cheaper than the other."
   ]
  },
  {
   "cell_type": "markdown",
   "id": "94ace086",
   "metadata": {},
   "source": [
    "# Line Charts "
   ]
  },
  {
   "cell_type": "code",
   "execution_count": 43,
   "id": "ca0aa158",
   "metadata": {},
   "outputs": [
    {
     "data": {
      "text/plain": [
       "AgeRange\n",
       "Under 19         NaN\n",
       "20-29       2.814168\n",
       "30-39       3.265651\n",
       "40-49       3.686667\n",
       "50-59       3.593985\n",
       "60-69            NaN\n",
       "70+              NaN\n",
       "Name: NumberOfTrips, dtype: float64"
      ]
     },
     "execution_count": 43,
     "metadata": {},
     "output_type": "execute_result"
    }
   ],
   "source": [
    "TravelDrop.groupby(by=\"AgeRange\").NumberOfTrips.mean()"
   ]
  },
  {
   "cell_type": "markdown",
   "id": "e8b34cf8",
   "metadata": {},
   "source": [
    "On average, the younger age group from 20-39 take less trip than age group from 40-59. Possible big impact is income and available travel time.  As people grow older, they are more established in their career.  Therefore, they accumulate more paid vacation time along with stable source of income."
   ]
  },
  {
   "cell_type": "code",
   "execution_count": null,
   "id": "cad3392a",
   "metadata": {},
   "outputs": [],
   "source": []
  }
 ],
 "metadata": {
  "kernelspec": {
   "display_name": "Python 3",
   "language": "python",
   "name": "python3"
  },
  "language_info": {
   "codemirror_mode": {
    "name": "ipython",
    "version": 3
   },
   "file_extension": ".py",
   "mimetype": "text/x-python",
   "name": "python",
   "nbconvert_exporter": "python",
   "pygments_lexer": "ipython3",
   "version": "3.8.8"
  }
 },
 "nbformat": 4,
 "nbformat_minor": 5
}
